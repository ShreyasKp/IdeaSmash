{
  "cells": [
    {
      "metadata": {
        "_uuid": "8f2839f25d086af736a60e9eeb907d3b93b6e0e5",
        "_cell_guid": "b1076dfc-b9ad-4769-8c92-a6c4dae69d19",
        "trusted": true
      },
      "cell_type": "code",
      "source": "# This Python 3 environment comes with many helpful analytics libraries installed\n# It is defined by the kaggle/python docker image: https://github.com/kaggle/docker-python\n# For example, here's several helpful packages to load in \n\nimport numpy as np # linear algebra\nimport pandas as pd # data processing, CSV file I/O (e.g. pd.read_csv)\n\n# Input data files are available in the \"../input/\" directory.\n# For example, running this (by clicking run or pressing Shift+Enter) will list the files in the input directory\n\nimport os\nprint(os.listdir(\"../input\"))\n\n# Any results you write to the current directory are saved as output.",
      "execution_count": 504,
      "outputs": [
        {
          "output_type": "stream",
          "text": "['74_transactions_deposit.csv', '10_transactions_deposit.csv']\n",
          "name": "stdout"
        }
      ]
    },
    {
      "metadata": {
        "_cell_guid": "79c7e3d0-c299-4dcb-8224-4455121ee9b0",
        "_uuid": "d629ff2d2480ee46fbb7e2d37f6b5fab8052498a",
        "trusted": true
      },
      "cell_type": "code",
      "source": "mary_df = pd.read_csv('../input/10_transactions_deposit.csv')\nzeyang_df = pd.read_csv('../input/74_transactions_deposit.csv')",
      "execution_count": 505,
      "outputs": []
    },
    {
      "metadata": {
        "trusted": true,
        "_uuid": "b765680d4bb2db4735f23de099f4de8b05789750"
      },
      "cell_type": "code",
      "source": "mary_df.head(3)",
      "execution_count": 506,
      "outputs": [
        {
          "output_type": "execute_result",
          "execution_count": 506,
          "data": {
            "text/plain": "                          transactionId                    ...                                                referenceNumber\n0  d1911856-60cc-48fb-aac7-f4cb2be6efba                    ...                                                297899874 BONES\n1  6aa118cc-9e11-46ce-a420-d3197e1390e8                    ...                      874670509 BANK FAST TRANSFER TO 415967364\n2  95cfe565-245e-448c-82af-7c4f03b2f36a                    ...                                  726075647 ATM CASH WTIHDRAWAL\n\n[3 rows x 7 columns]",
            "text/html": "<div>\n<style scoped>\n    .dataframe tbody tr th:only-of-type {\n        vertical-align: middle;\n    }\n\n    .dataframe tbody tr th {\n        vertical-align: top;\n    }\n\n    .dataframe thead th {\n        text-align: right;\n    }\n</style>\n<table border=\"1\" class=\"dataframe\">\n  <thead>\n    <tr style=\"text-align: right;\">\n      <th></th>\n      <th>transactionId</th>\n      <th>accountId</th>\n      <th>type</th>\n      <th>amount</th>\n      <th>date</th>\n      <th>tag</th>\n      <th>referenceNumber</th>\n    </tr>\n  </thead>\n  <tbody>\n    <tr>\n      <th>0</th>\n      <td>d1911856-60cc-48fb-aac7-f4cb2be6efba</td>\n      <td>10</td>\n      <td>DEBIT</td>\n      <td>16.41</td>\n      <td>2018-01-01T19:00:00.000+0000</td>\n      <td>F&amp;B</td>\n      <td>297899874 BONES</td>\n    </tr>\n    <tr>\n      <th>1</th>\n      <td>6aa118cc-9e11-46ce-a420-d3197e1390e8</td>\n      <td>10</td>\n      <td>DEBIT</td>\n      <td>21.31</td>\n      <td>2018-01-01T09:00:00.000+0000</td>\n      <td>TRANSFER</td>\n      <td>874670509 BANK FAST TRANSFER TO 415967364</td>\n    </tr>\n    <tr>\n      <th>2</th>\n      <td>95cfe565-245e-448c-82af-7c4f03b2f36a</td>\n      <td>10</td>\n      <td>DEBIT</td>\n      <td>50.00</td>\n      <td>2018-01-01T03:00:00.000+0000</td>\n      <td>ATM</td>\n      <td>726075647 ATM CASH WTIHDRAWAL</td>\n    </tr>\n  </tbody>\n</table>\n</div>"
          },
          "metadata": {}
        }
      ]
    },
    {
      "metadata": {
        "trusted": true,
        "_uuid": "c3c1b4a2e03483ecae415b1eb0ce92bd1614fbeb"
      },
      "cell_type": "code",
      "source": "zeyang_df.head(3)",
      "execution_count": 507,
      "outputs": [
        {
          "output_type": "execute_result",
          "execution_count": 507,
          "data": {
            "text/plain": "                          transactionId              ...                              referenceNumber\n0  119973fe-7d7b-494b-86cf-872c34b6780c              ...                789010165 FAST-TREK TRANSPORT\n1  b7974ee5-6554-4aa4-b714-852d3d96a919              ...                      500487003 LITTLE PERSIA\n2  3c7d2213-bd27-4415-900f-e21e5678a616              ...                  258007422 JACK RIDE HAILING\n\n[3 rows x 7 columns]",
            "text/html": "<div>\n<style scoped>\n    .dataframe tbody tr th:only-of-type {\n        vertical-align: middle;\n    }\n\n    .dataframe tbody tr th {\n        vertical-align: top;\n    }\n\n    .dataframe thead th {\n        text-align: right;\n    }\n</style>\n<table border=\"1\" class=\"dataframe\">\n  <thead>\n    <tr style=\"text-align: right;\">\n      <th></th>\n      <th>transactionId</th>\n      <th>accountId</th>\n      <th>type</th>\n      <th>amount</th>\n      <th>date</th>\n      <th>tag</th>\n      <th>referenceNumber</th>\n    </tr>\n  </thead>\n  <tbody>\n    <tr>\n      <th>0</th>\n      <td>119973fe-7d7b-494b-86cf-872c34b6780c</td>\n      <td>74</td>\n      <td>DEBIT</td>\n      <td>12.90</td>\n      <td>2018-01-01T02:00:00.000+0000</td>\n      <td>TRANSPORT</td>\n      <td>789010165 FAST-TREK TRANSPORT</td>\n    </tr>\n    <tr>\n      <th>1</th>\n      <td>b7974ee5-6554-4aa4-b714-852d3d96a919</td>\n      <td>74</td>\n      <td>DEBIT</td>\n      <td>24.43</td>\n      <td>2018-01-02T13:00:00.000+0000</td>\n      <td>F&amp;B</td>\n      <td>500487003 LITTLE PERSIA</td>\n    </tr>\n    <tr>\n      <th>2</th>\n      <td>3c7d2213-bd27-4415-900f-e21e5678a616</td>\n      <td>74</td>\n      <td>DEBIT</td>\n      <td>13.95</td>\n      <td>2018-01-02T19:00:00.000+0000</td>\n      <td>TRANSPORT</td>\n      <td>258007422 JACK RIDE HAILING</td>\n    </tr>\n  </tbody>\n</table>\n</div>"
          },
          "metadata": {}
        }
      ]
    },
    {
      "metadata": {
        "trusted": true,
        "scrolled": true,
        "_uuid": "c72572a46be7bbdcaaa60789f260a9eca21793f3"
      },
      "cell_type": "code",
      "source": "for index, row in mary_df.iterrows():\n    if row['type'] == 'DEBIT':\n        mary_df.ix[index, 'new_amount'] = float(mary_df.iloc[index]['amount']*-1)\n    else:\n        mary_df.ix[index, 'new_amount'] = float(mary_df.iloc[index]['amount'])\n        \nfor index, row in zeyang_df.iterrows():\n    if row['type'] == 'DEBIT':\n        zeyang_df.ix[index, 'new_amount'] = float(zeyang_df.iloc[index]['amount']*-1)\n    else:\n        zeyang_df.ix[index, 'new_amount'] = float(zeyang_df.iloc[index]['amount'])",
      "execution_count": 508,
      "outputs": [
        {
          "output_type": "stream",
          "text": "/opt/conda/lib/python3.6/site-packages/ipykernel_launcher.py:3: DeprecationWarning: \n.ix is deprecated. Please use\n.loc for label based indexing or\n.iloc for positional indexing\n\nSee the documentation here:\nhttp://pandas.pydata.org/pandas-docs/stable/indexing.html#ix-indexer-is-deprecated\n  This is separate from the ipykernel package so we can avoid doing imports until\n/opt/conda/lib/python3.6/site-packages/ipykernel_launcher.py:5: DeprecationWarning: \n.ix is deprecated. Please use\n.loc for label based indexing or\n.iloc for positional indexing\n\nSee the documentation here:\nhttp://pandas.pydata.org/pandas-docs/stable/indexing.html#ix-indexer-is-deprecated\n  \"\"\"\n/opt/conda/lib/python3.6/site-packages/ipykernel_launcher.py:9: DeprecationWarning: \n.ix is deprecated. Please use\n.loc for label based indexing or\n.iloc for positional indexing\n\nSee the documentation here:\nhttp://pandas.pydata.org/pandas-docs/stable/indexing.html#ix-indexer-is-deprecated\n  if __name__ == '__main__':\n/opt/conda/lib/python3.6/site-packages/ipykernel_launcher.py:11: DeprecationWarning: \n.ix is deprecated. Please use\n.loc for label based indexing or\n.iloc for positional indexing\n\nSee the documentation here:\nhttp://pandas.pydata.org/pandas-docs/stable/indexing.html#ix-indexer-is-deprecated\n  # This is added back by InteractiveShellApp.init_path()\n",
          "name": "stderr"
        }
      ]
    },
    {
      "metadata": {
        "trusted": true,
        "_uuid": "2bb16e5a8420fc2322c5d854795e2824f5ca9ac6"
      },
      "cell_type": "code",
      "source": "mary_df.head(3)",
      "execution_count": 509,
      "outputs": [
        {
          "output_type": "execute_result",
          "execution_count": 509,
          "data": {
            "text/plain": "                          transactionId     ...      new_amount\n0  d1911856-60cc-48fb-aac7-f4cb2be6efba     ...          -16.41\n1  6aa118cc-9e11-46ce-a420-d3197e1390e8     ...          -21.31\n2  95cfe565-245e-448c-82af-7c4f03b2f36a     ...          -50.00\n\n[3 rows x 8 columns]",
            "text/html": "<div>\n<style scoped>\n    .dataframe tbody tr th:only-of-type {\n        vertical-align: middle;\n    }\n\n    .dataframe tbody tr th {\n        vertical-align: top;\n    }\n\n    .dataframe thead th {\n        text-align: right;\n    }\n</style>\n<table border=\"1\" class=\"dataframe\">\n  <thead>\n    <tr style=\"text-align: right;\">\n      <th></th>\n      <th>transactionId</th>\n      <th>accountId</th>\n      <th>type</th>\n      <th>amount</th>\n      <th>date</th>\n      <th>tag</th>\n      <th>referenceNumber</th>\n      <th>new_amount</th>\n    </tr>\n  </thead>\n  <tbody>\n    <tr>\n      <th>0</th>\n      <td>d1911856-60cc-48fb-aac7-f4cb2be6efba</td>\n      <td>10</td>\n      <td>DEBIT</td>\n      <td>16.41</td>\n      <td>2018-01-01T19:00:00.000+0000</td>\n      <td>F&amp;B</td>\n      <td>297899874 BONES</td>\n      <td>-16.41</td>\n    </tr>\n    <tr>\n      <th>1</th>\n      <td>6aa118cc-9e11-46ce-a420-d3197e1390e8</td>\n      <td>10</td>\n      <td>DEBIT</td>\n      <td>21.31</td>\n      <td>2018-01-01T09:00:00.000+0000</td>\n      <td>TRANSFER</td>\n      <td>874670509 BANK FAST TRANSFER TO 415967364</td>\n      <td>-21.31</td>\n    </tr>\n    <tr>\n      <th>2</th>\n      <td>95cfe565-245e-448c-82af-7c4f03b2f36a</td>\n      <td>10</td>\n      <td>DEBIT</td>\n      <td>50.00</td>\n      <td>2018-01-01T03:00:00.000+0000</td>\n      <td>ATM</td>\n      <td>726075647 ATM CASH WTIHDRAWAL</td>\n      <td>-50.00</td>\n    </tr>\n  </tbody>\n</table>\n</div>"
          },
          "metadata": {}
        }
      ]
    },
    {
      "metadata": {
        "trusted": true,
        "_uuid": "70743ba3bd08cce33f04cb4b32338d9d2d78a971"
      },
      "cell_type": "code",
      "source": "zeyang_df.head()",
      "execution_count": 510,
      "outputs": [
        {
          "output_type": "execute_result",
          "execution_count": 510,
          "data": {
            "text/plain": "                          transactionId     ...      new_amount\n0  119973fe-7d7b-494b-86cf-872c34b6780c     ...          -12.90\n1  b7974ee5-6554-4aa4-b714-852d3d96a919     ...          -24.43\n2  3c7d2213-bd27-4415-900f-e21e5678a616     ...          -13.95\n3  928acbed-ba64-418c-af34-36e1dffbe281     ...          -10.32\n4  6b72ab24-2cad-4c9e-a77f-c1c23b8f2588     ...          -27.47\n\n[5 rows x 8 columns]",
            "text/html": "<div>\n<style scoped>\n    .dataframe tbody tr th:only-of-type {\n        vertical-align: middle;\n    }\n\n    .dataframe tbody tr th {\n        vertical-align: top;\n    }\n\n    .dataframe thead th {\n        text-align: right;\n    }\n</style>\n<table border=\"1\" class=\"dataframe\">\n  <thead>\n    <tr style=\"text-align: right;\">\n      <th></th>\n      <th>transactionId</th>\n      <th>accountId</th>\n      <th>type</th>\n      <th>amount</th>\n      <th>date</th>\n      <th>tag</th>\n      <th>referenceNumber</th>\n      <th>new_amount</th>\n    </tr>\n  </thead>\n  <tbody>\n    <tr>\n      <th>0</th>\n      <td>119973fe-7d7b-494b-86cf-872c34b6780c</td>\n      <td>74</td>\n      <td>DEBIT</td>\n      <td>12.90</td>\n      <td>2018-01-01T02:00:00.000+0000</td>\n      <td>TRANSPORT</td>\n      <td>789010165 FAST-TREK TRANSPORT</td>\n      <td>-12.90</td>\n    </tr>\n    <tr>\n      <th>1</th>\n      <td>b7974ee5-6554-4aa4-b714-852d3d96a919</td>\n      <td>74</td>\n      <td>DEBIT</td>\n      <td>24.43</td>\n      <td>2018-01-02T13:00:00.000+0000</td>\n      <td>F&amp;B</td>\n      <td>500487003 LITTLE PERSIA</td>\n      <td>-24.43</td>\n    </tr>\n    <tr>\n      <th>2</th>\n      <td>3c7d2213-bd27-4415-900f-e21e5678a616</td>\n      <td>74</td>\n      <td>DEBIT</td>\n      <td>13.95</td>\n      <td>2018-01-02T19:00:00.000+0000</td>\n      <td>TRANSPORT</td>\n      <td>258007422 JACK RIDE HAILING</td>\n      <td>-13.95</td>\n    </tr>\n    <tr>\n      <th>3</th>\n      <td>928acbed-ba64-418c-af34-36e1dffbe281</td>\n      <td>74</td>\n      <td>DEBIT</td>\n      <td>10.32</td>\n      <td>2018-01-03T22:00:00.000+0000</td>\n      <td>TRANSPORT</td>\n      <td>361171512 JACK RIDE HAILING</td>\n      <td>-10.32</td>\n    </tr>\n    <tr>\n      <th>4</th>\n      <td>6b72ab24-2cad-4c9e-a77f-c1c23b8f2588</td>\n      <td>74</td>\n      <td>DEBIT</td>\n      <td>27.47</td>\n      <td>2018-01-04T19:00:00.000+0000</td>\n      <td>F&amp;B</td>\n      <td>340312298 BONES</td>\n      <td>-27.47</td>\n    </tr>\n  </tbody>\n</table>\n</div>"
          },
          "metadata": {}
        }
      ]
    },
    {
      "metadata": {
        "trusted": true,
        "_uuid": "b77d9b7b7ad9e56f501954834dda5e50460967f1"
      },
      "cell_type": "code",
      "source": "mary_df = mary_df.drop(['amount', 'type'], axis=1)\nzeyang_df = zeyang_df.drop(['amount', 'type'], axis=1)",
      "execution_count": 511,
      "outputs": []
    },
    {
      "metadata": {
        "trusted": true,
        "_uuid": "2a6597dd642259e6dfb881752c7c6d32062059f9"
      },
      "cell_type": "code",
      "source": "int(zeyang_df.loc[500, 'date'].split('-')[1])",
      "execution_count": 512,
      "outputs": [
        {
          "output_type": "execute_result",
          "execution_count": 512,
          "data": {
            "text/plain": "11"
          },
          "metadata": {}
        }
      ]
    },
    {
      "metadata": {
        "trusted": true,
        "_uuid": "77df58c11c03980aaafa3c5d01626920eb3f9596"
      },
      "cell_type": "code",
      "source": "for index, row in zeyang_df.iterrows():\n    zeyang_df.loc[index, 'Year'] = int(zeyang_df.loc[index, 'date'].split('-')[0])\n    zeyang_df.loc[index, 'Month'] = int(zeyang_df.loc[index, 'date'].split('-')[1])\n    \nfor index, row in mary_df.iterrows():\n    mary_df.loc[index, 'Year'] = int(mary_df.loc[index, 'date'].split('-')[0])\n    mary_df.loc[index, 'Month'] = int(mary_df.loc[index, 'date'].split('-')[1])",
      "execution_count": 513,
      "outputs": []
    },
    {
      "metadata": {
        "trusted": true,
        "_uuid": "14ebb81e453832d1f515408aa3f5d321dc7243f1"
      },
      "cell_type": "code",
      "source": "zeyang_df.head(300)",
      "execution_count": 514,
      "outputs": [
        {
          "output_type": "execute_result",
          "execution_count": 514,
          "data": {
            "text/plain": "                            transactionId  accountId  ...     Year Month\n0    119973fe-7d7b-494b-86cf-872c34b6780c         74  ...   2018.0   1.0\n1    b7974ee5-6554-4aa4-b714-852d3d96a919         74  ...   2018.0   1.0\n2    3c7d2213-bd27-4415-900f-e21e5678a616         74  ...   2018.0   1.0\n3    928acbed-ba64-418c-af34-36e1dffbe281         74  ...   2018.0   1.0\n4    6b72ab24-2cad-4c9e-a77f-c1c23b8f2588         74  ...   2018.0   1.0\n5    7f99a759-5b8e-42ab-9c6f-a27e50aa6567         74  ...   2018.0   1.0\n6    f3a01c47-9512-4a74-929b-dd175a09b2e4         74  ...   2018.0   1.0\n7    8a06d116-2288-4e85-8c04-b80ebb70e4ff         74  ...   2018.0   1.0\n8    0dced0f4-6feb-4705-b82e-662d105ce746         74  ...   2018.0   1.0\n9    0a4725d2-c88a-4bde-8c82-129dba2adef3         74  ...   2018.0   1.0\n10   ba6deee2-ac8a-4abc-ab03-f7292f47d539         74  ...   2018.0   1.0\n11   8e1b6bf7-4453-4721-bf14-1f918da91471         74  ...   2018.0   1.0\n12   e3871c23-c818-438a-9b8b-32a19f1bdcc1         74  ...   2018.0   1.0\n13   75afc7d8-9e25-408f-afa3-45c7c86b2f28         74  ...   2018.0   1.0\n14   5d1c3a57-ae01-4f6b-bafd-805f5c4c75f9         74  ...   2018.0   1.0\n15   d315be89-6912-4338-9f04-ec65fbecf07b         74  ...   2018.0   1.0\n16   1ae8d5ed-33ac-4611-bfe4-fe9632894ee5         74  ...   2018.0   1.0\n17   f41864a3-c850-4f2f-a3f7-2d104a82e58c         74  ...   2018.0   1.0\n18   0eb678b1-3786-4fe2-9e7a-b2bd2e60b91b         74  ...   2018.0   1.0\n19   125254a5-c8ba-4c94-8419-c851550e60e9         74  ...   2018.0   1.0\n20   6ae42bbc-04ed-48da-8dc7-4423bc0dada5         74  ...   2018.0   1.0\n21   8305bbea-5d4e-4c62-99f5-bd30afea549a         74  ...   2018.0   1.0\n22   ab078b0c-7d51-4e0e-9f3a-e816506308c1         74  ...   2018.0   1.0\n23   56f8f567-6492-433d-8e42-663a34e1415d         74  ...   2018.0   1.0\n24   3af99b04-835a-4ae1-b0e7-ea92aaa817f2         74  ...   2018.0   1.0\n25   25405354-e21d-49a1-8a40-0beaea5f3310         74  ...   2018.0   1.0\n26   4ded61da-218b-4645-b4a0-2132d3792af6         74  ...   2018.0   1.0\n27   5cf53ba3-74e4-47c9-b98b-709be81c51ca         74  ...   2018.0   1.0\n28   bdd9d2cb-3739-4eb4-bbf0-e26edb386ae9         74  ...   2018.0   1.0\n29   00cbbe31-8cb7-49c2-a893-06b0832465fa         74  ...   2018.0   1.0\n..                                    ...        ...  ...      ...   ...\n270  892ff713-b358-4092-93eb-2aa18925bc38         74  ...   2018.0   6.0\n271  cace9378-3e8e-46a0-913a-9d6f67231e0c         74  ...   2018.0   6.0\n272  7f5035ac-16e0-4a92-9271-6f4e326b746a         74  ...   2018.0   6.0\n273  77841ca0-6565-46fc-a8b5-b9c57e7c69e8         74  ...   2018.0   6.0\n274  5176c3ee-f6e6-4736-a900-0f4f84a2a00a         74  ...   2018.0   6.0\n275  9e15ee0f-a440-4738-aea3-e91ffc91f8fd         74  ...   2018.0   6.0\n276  ecb162df-d22a-40c7-acc2-256a4980c4cd         74  ...   2018.0   6.0\n277  ea7500e7-45ce-4c99-ad1a-ec95afab429a         74  ...   2018.0   6.0\n278  08741f9e-4ab6-4e05-8c66-18445653f5ba         74  ...   2018.0   6.0\n279  2d7a5514-bcc6-46ff-abd3-eac53a6bc652         74  ...   2018.0   6.0\n280  1b164be2-0df7-426c-a591-dcf14c8249f5         74  ...   2018.0   6.0\n281  1e3dcc6c-63e9-4ca2-8c0e-28005b1bc429         74  ...   2018.0   6.0\n282  46644c68-d334-4593-a39e-61d9c4c86fb0         74  ...   2018.0   6.0\n283  ea0469f2-aa4a-49e9-b929-3514a8e4cd31         74  ...   2018.0   6.0\n284  ac813f84-658a-4eb7-b9ef-392692382b2e         74  ...   2018.0   6.0\n285  eafdb811-4bf5-40ed-9c6f-406dadcbe586         74  ...   2018.0   6.0\n286  794ef5e6-8f81-4df6-b32a-c2c4292e7351         74  ...   2018.0   7.0\n287  60aa5d52-418d-480e-930f-fca552838021         74  ...   2018.0   7.0\n288  0ab95f0d-baac-4979-910c-7db29f14850d         74  ...   2018.0   7.0\n289  d4c73db0-cd9d-4504-81ea-cf4cf7c7e6d7         74  ...   2018.0   7.0\n290  39e2a071-58dd-433c-b674-00522533a084         74  ...   2018.0   7.0\n291  2e27d0ca-3787-4961-8b9d-49d57e22cd05         74  ...   2018.0   7.0\n292  ef52d015-d998-425e-9ed8-6cf6d6448edd         74  ...   2018.0   7.0\n293  4185b90e-d3f6-46a3-ac65-57b21842e32f         74  ...   2018.0   7.0\n294  8e11c19e-58cc-4ace-9c08-c4321bc25c4f         74  ...   2018.0   7.0\n295  d6fcf94d-b12a-4626-894b-4be00986f8cd         74  ...   2018.0   7.0\n296  c10aa77b-8073-46f8-bf14-94470f836520         74  ...   2018.0   7.0\n297  2fc69c18-3e53-40d6-a7c7-dfbcbd3abb35         74  ...   2018.0   7.0\n298  0e154b78-d52e-4500-9ff5-19a891825b29         74  ...   2018.0   7.0\n299  8ebd875a-995f-40d1-af51-a9a41ccb4067         74  ...   2018.0   7.0\n\n[300 rows x 8 columns]",
            "text/html": "<div>\n<style scoped>\n    .dataframe tbody tr th:only-of-type {\n        vertical-align: middle;\n    }\n\n    .dataframe tbody tr th {\n        vertical-align: top;\n    }\n\n    .dataframe thead th {\n        text-align: right;\n    }\n</style>\n<table border=\"1\" class=\"dataframe\">\n  <thead>\n    <tr style=\"text-align: right;\">\n      <th></th>\n      <th>transactionId</th>\n      <th>accountId</th>\n      <th>date</th>\n      <th>tag</th>\n      <th>referenceNumber</th>\n      <th>new_amount</th>\n      <th>Year</th>\n      <th>Month</th>\n    </tr>\n  </thead>\n  <tbody>\n    <tr>\n      <th>0</th>\n      <td>119973fe-7d7b-494b-86cf-872c34b6780c</td>\n      <td>74</td>\n      <td>2018-01-01T02:00:00.000+0000</td>\n      <td>TRANSPORT</td>\n      <td>789010165 FAST-TREK TRANSPORT</td>\n      <td>-12.90</td>\n      <td>2018.0</td>\n      <td>1.0</td>\n    </tr>\n    <tr>\n      <th>1</th>\n      <td>b7974ee5-6554-4aa4-b714-852d3d96a919</td>\n      <td>74</td>\n      <td>2018-01-02T13:00:00.000+0000</td>\n      <td>F&amp;B</td>\n      <td>500487003 LITTLE PERSIA</td>\n      <td>-24.43</td>\n      <td>2018.0</td>\n      <td>1.0</td>\n    </tr>\n    <tr>\n      <th>2</th>\n      <td>3c7d2213-bd27-4415-900f-e21e5678a616</td>\n      <td>74</td>\n      <td>2018-01-02T19:00:00.000+0000</td>\n      <td>TRANSPORT</td>\n      <td>258007422 JACK RIDE HAILING</td>\n      <td>-13.95</td>\n      <td>2018.0</td>\n      <td>1.0</td>\n    </tr>\n    <tr>\n      <th>3</th>\n      <td>928acbed-ba64-418c-af34-36e1dffbe281</td>\n      <td>74</td>\n      <td>2018-01-03T22:00:00.000+0000</td>\n      <td>TRANSPORT</td>\n      <td>361171512 JACK RIDE HAILING</td>\n      <td>-10.32</td>\n      <td>2018.0</td>\n      <td>1.0</td>\n    </tr>\n    <tr>\n      <th>4</th>\n      <td>6b72ab24-2cad-4c9e-a77f-c1c23b8f2588</td>\n      <td>74</td>\n      <td>2018-01-04T19:00:00.000+0000</td>\n      <td>F&amp;B</td>\n      <td>340312298 BONES</td>\n      <td>-27.47</td>\n      <td>2018.0</td>\n      <td>1.0</td>\n    </tr>\n    <tr>\n      <th>5</th>\n      <td>7f99a759-5b8e-42ab-9c6f-a27e50aa6567</td>\n      <td>74</td>\n      <td>2018-01-04T16:00:00.000+0000</td>\n      <td>ATM</td>\n      <td>316680434 ATM CASH WTIHDRAWAL</td>\n      <td>-200.00</td>\n      <td>2018.0</td>\n      <td>1.0</td>\n    </tr>\n    <tr>\n      <th>6</th>\n      <td>f3a01c47-9512-4a74-929b-dd175a09b2e4</td>\n      <td>74</td>\n      <td>2018-01-05T13:00:00.000+0000</td>\n      <td>F&amp;B</td>\n      <td>557842464 THE BURGER SHOP</td>\n      <td>-28.85</td>\n      <td>2018.0</td>\n      <td>1.0</td>\n    </tr>\n    <tr>\n      <th>7</th>\n      <td>8a06d116-2288-4e85-8c04-b80ebb70e4ff</td>\n      <td>74</td>\n      <td>2018-01-05T06:00:00.000+0000</td>\n      <td>TRANSFER</td>\n      <td>158756381 BANK FAST TRANSFER TO 547885043</td>\n      <td>-47.41</td>\n      <td>2018.0</td>\n      <td>1.0</td>\n    </tr>\n    <tr>\n      <th>8</th>\n      <td>0dced0f4-6feb-4705-b82e-662d105ce746</td>\n      <td>74</td>\n      <td>2018-01-07T19:00:00.000+0000</td>\n      <td>F&amp;B</td>\n      <td>559653541 CRAZY SPICY THAI FOOD</td>\n      <td>-27.64</td>\n      <td>2018.0</td>\n      <td>1.0</td>\n    </tr>\n    <tr>\n      <th>9</th>\n      <td>0a4725d2-c88a-4bde-8c82-129dba2adef3</td>\n      <td>74</td>\n      <td>2018-01-07T18:00:00.000+0000</td>\n      <td>TRANSPORT</td>\n      <td>69290328 SUBER FAST TRANSPORT PTE LTD</td>\n      <td>-13.18</td>\n      <td>2018.0</td>\n      <td>1.0</td>\n    </tr>\n    <tr>\n      <th>10</th>\n      <td>ba6deee2-ac8a-4abc-ab03-f7292f47d539</td>\n      <td>74</td>\n      <td>2018-01-09T19:00:00.000+0000</td>\n      <td>F&amp;B</td>\n      <td>76420158 THE SILK ROOM</td>\n      <td>-24.89</td>\n      <td>2018.0</td>\n      <td>1.0</td>\n    </tr>\n    <tr>\n      <th>11</th>\n      <td>8e1b6bf7-4453-4721-bf14-1f918da91471</td>\n      <td>74</td>\n      <td>2018-01-10T19:00:00.000+0000</td>\n      <td>F&amp;B</td>\n      <td>528373718 LITTLE PERSIA</td>\n      <td>-23.11</td>\n      <td>2018.0</td>\n      <td>1.0</td>\n    </tr>\n    <tr>\n      <th>12</th>\n      <td>e3871c23-c818-438a-9b8b-32a19f1bdcc1</td>\n      <td>74</td>\n      <td>2018-01-11T13:00:00.000+0000</td>\n      <td>F&amp;B</td>\n      <td>42662978 PRATA AND TEH TAHRIK PLACE</td>\n      <td>-22.73</td>\n      <td>2018.0</td>\n      <td>1.0</td>\n    </tr>\n    <tr>\n      <th>13</th>\n      <td>75afc7d8-9e25-408f-afa3-45c7c86b2f28</td>\n      <td>74</td>\n      <td>2018-01-12T13:00:00.000+0000</td>\n      <td>F&amp;B</td>\n      <td>584511490 THE ORIGINAL GOAT</td>\n      <td>-23.48</td>\n      <td>2018.0</td>\n      <td>1.0</td>\n    </tr>\n    <tr>\n      <th>14</th>\n      <td>5d1c3a57-ae01-4f6b-bafd-805f5c4c75f9</td>\n      <td>74</td>\n      <td>2018-01-12T08:00:00.000+0000</td>\n      <td>TRANSPORT</td>\n      <td>531995662 JACK RIDE HAILING</td>\n      <td>-15.12</td>\n      <td>2018.0</td>\n      <td>1.0</td>\n    </tr>\n    <tr>\n      <th>15</th>\n      <td>d315be89-6912-4338-9f04-ec65fbecf07b</td>\n      <td>74</td>\n      <td>2018-01-13T19:00:00.000+0000</td>\n      <td>F&amp;B</td>\n      <td>566629040 THE SILK ROOM</td>\n      <td>-25.65</td>\n      <td>2018.0</td>\n      <td>1.0</td>\n    </tr>\n    <tr>\n      <th>16</th>\n      <td>1ae8d5ed-33ac-4611-bfe4-fe9632894ee5</td>\n      <td>74</td>\n      <td>2018-01-13T22:00:00.000+0000</td>\n      <td>ATM</td>\n      <td>951290193 ATM CASH WTIHDRAWAL</td>\n      <td>-200.00</td>\n      <td>2018.0</td>\n      <td>1.0</td>\n    </tr>\n    <tr>\n      <th>17</th>\n      <td>f41864a3-c850-4f2f-a3f7-2d104a82e58c</td>\n      <td>74</td>\n      <td>2018-01-14T19:00:00.000+0000</td>\n      <td>F&amp;B</td>\n      <td>994028356 LITTLE PERSIA</td>\n      <td>-27.56</td>\n      <td>2018.0</td>\n      <td>1.0</td>\n    </tr>\n    <tr>\n      <th>18</th>\n      <td>0eb678b1-3786-4fe2-9e7a-b2bd2e60b91b</td>\n      <td>74</td>\n      <td>2018-01-15T13:00:00.000+0000</td>\n      <td>F&amp;B</td>\n      <td>426841137 THE VANILLA ORCHARD</td>\n      <td>-29.12</td>\n      <td>2018.0</td>\n      <td>1.0</td>\n    </tr>\n    <tr>\n      <th>19</th>\n      <td>125254a5-c8ba-4c94-8419-c851550e60e9</td>\n      <td>74</td>\n      <td>2018-01-15T17:00:00.000+0000</td>\n      <td>TRANSPORT</td>\n      <td>396915932 FAST-TREK TRANSPORT</td>\n      <td>-15.59</td>\n      <td>2018.0</td>\n      <td>1.0</td>\n    </tr>\n    <tr>\n      <th>20</th>\n      <td>6ae42bbc-04ed-48da-8dc7-4423bc0dada5</td>\n      <td>74</td>\n      <td>2018-01-16T13:00:00.000+0000</td>\n      <td>F&amp;B</td>\n      <td>665574142 THE OLIVE AFTER DARK</td>\n      <td>-30.94</td>\n      <td>2018.0</td>\n      <td>1.0</td>\n    </tr>\n    <tr>\n      <th>21</th>\n      <td>8305bbea-5d4e-4c62-99f5-bd30afea549a</td>\n      <td>74</td>\n      <td>2018-01-16T11:00:00.000+0000</td>\n      <td>TRANSPORT</td>\n      <td>224694167 JACK RIDE HAILING</td>\n      <td>-14.33</td>\n      <td>2018.0</td>\n      <td>1.0</td>\n    </tr>\n    <tr>\n      <th>22</th>\n      <td>ab078b0c-7d51-4e0e-9f3a-e816506308c1</td>\n      <td>74</td>\n      <td>2018-01-17T06:00:00.000+0000</td>\n      <td>TRANSPORT</td>\n      <td>462964256 FAST-TREK TRANSPORT</td>\n      <td>-20.31</td>\n      <td>2018.0</td>\n      <td>1.0</td>\n    </tr>\n    <tr>\n      <th>23</th>\n      <td>56f8f567-6492-433d-8e42-663a34e1415d</td>\n      <td>74</td>\n      <td>2018-01-20T13:00:00.000+0000</td>\n      <td>F&amp;B</td>\n      <td>229673004 THE ORIGINAL GOAT</td>\n      <td>-26.49</td>\n      <td>2018.0</td>\n      <td>1.0</td>\n    </tr>\n    <tr>\n      <th>24</th>\n      <td>3af99b04-835a-4ae1-b0e7-ea92aaa817f2</td>\n      <td>74</td>\n      <td>2018-01-20T03:00:00.000+0000</td>\n      <td>TRANSPORT</td>\n      <td>312951392 JACK RIDE HAILING</td>\n      <td>-17.73</td>\n      <td>2018.0</td>\n      <td>1.0</td>\n    </tr>\n    <tr>\n      <th>25</th>\n      <td>25405354-e21d-49a1-8a40-0beaea5f3310</td>\n      <td>74</td>\n      <td>2018-01-21T19:00:00.000+0000</td>\n      <td>F&amp;B</td>\n      <td>496984901 THE SPRING OYSTER</td>\n      <td>-27.17</td>\n      <td>2018.0</td>\n      <td>1.0</td>\n    </tr>\n    <tr>\n      <th>26</th>\n      <td>4ded61da-218b-4645-b4a0-2132d3792af6</td>\n      <td>74</td>\n      <td>2018-01-22T13:00:00.000+0000</td>\n      <td>F&amp;B</td>\n      <td>555068976 BONES</td>\n      <td>-29.62</td>\n      <td>2018.0</td>\n      <td>1.0</td>\n    </tr>\n    <tr>\n      <th>27</th>\n      <td>5cf53ba3-74e4-47c9-b98b-709be81c51ca</td>\n      <td>74</td>\n      <td>2018-01-22T04:00:00.000+0000</td>\n      <td>TRANSPORT</td>\n      <td>701724579 FAST-TREK TRANSPORT</td>\n      <td>-13.16</td>\n      <td>2018.0</td>\n      <td>1.0</td>\n    </tr>\n    <tr>\n      <th>28</th>\n      <td>bdd9d2cb-3739-4eb4-bbf0-e26edb386ae9</td>\n      <td>74</td>\n      <td>2018-01-23T13:00:00.000+0000</td>\n      <td>F&amp;B</td>\n      <td>735045849 FLYING DUMPLINGS RESTAURANT</td>\n      <td>-27.38</td>\n      <td>2018.0</td>\n      <td>1.0</td>\n    </tr>\n    <tr>\n      <th>29</th>\n      <td>00cbbe31-8cb7-49c2-a893-06b0832465fa</td>\n      <td>74</td>\n      <td>2018-01-24T19:00:00.000+0000</td>\n      <td>F&amp;B</td>\n      <td>517418789 THE SPRING OYSTER</td>\n      <td>-24.24</td>\n      <td>2018.0</td>\n      <td>1.0</td>\n    </tr>\n    <tr>\n      <th>...</th>\n      <td>...</td>\n      <td>...</td>\n      <td>...</td>\n      <td>...</td>\n      <td>...</td>\n      <td>...</td>\n      <td>...</td>\n      <td>...</td>\n    </tr>\n    <tr>\n      <th>270</th>\n      <td>892ff713-b358-4092-93eb-2aa18925bc38</td>\n      <td>74</td>\n      <td>2018-06-22T19:00:00.000+0000</td>\n      <td>F&amp;B</td>\n      <td>584561008 THE ROYAL ROSE</td>\n      <td>-20.16</td>\n      <td>2018.0</td>\n      <td>6.0</td>\n    </tr>\n    <tr>\n      <th>271</th>\n      <td>cace9378-3e8e-46a0-913a-9d6f67231e0c</td>\n      <td>74</td>\n      <td>2018-06-23T19:00:00.000+0000</td>\n      <td>F&amp;B</td>\n      <td>533336606 BONES</td>\n      <td>-28.60</td>\n      <td>2018.0</td>\n      <td>6.0</td>\n    </tr>\n    <tr>\n      <th>272</th>\n      <td>7f5035ac-16e0-4a92-9271-6f4e326b746a</td>\n      <td>74</td>\n      <td>2018-06-23T04:00:00.000+0000</td>\n      <td>TRANSPORT</td>\n      <td>189853739 JACK RIDE HAILING</td>\n      <td>-15.32</td>\n      <td>2018.0</td>\n      <td>6.0</td>\n    </tr>\n    <tr>\n      <th>273</th>\n      <td>77841ca0-6565-46fc-a8b5-b9c57e7c69e8</td>\n      <td>74</td>\n      <td>2018-06-24T19:00:00.000+0000</td>\n      <td>F&amp;B</td>\n      <td>632164905 THE VANILLA ORCHARD</td>\n      <td>-24.77</td>\n      <td>2018.0</td>\n      <td>6.0</td>\n    </tr>\n    <tr>\n      <th>274</th>\n      <td>5176c3ee-f6e6-4736-a900-0f4f84a2a00a</td>\n      <td>74</td>\n      <td>2018-06-24T09:00:00.000+0000</td>\n      <td>TRANSPORT</td>\n      <td>882187379 JACK RIDE HAILING</td>\n      <td>-16.28</td>\n      <td>2018.0</td>\n      <td>6.0</td>\n    </tr>\n    <tr>\n      <th>275</th>\n      <td>9e15ee0f-a440-4738-aea3-e91ffc91f8fd</td>\n      <td>74</td>\n      <td>2018-06-25T19:00:00.000+0000</td>\n      <td>F&amp;B</td>\n      <td>858788866 THE JADE ROOSTER</td>\n      <td>-19.19</td>\n      <td>2018.0</td>\n      <td>6.0</td>\n    </tr>\n    <tr>\n      <th>276</th>\n      <td>ecb162df-d22a-40c7-acc2-256a4980c4cd</td>\n      <td>74</td>\n      <td>2018-06-25T00:00:00.000+0000</td>\n      <td>TRANSFER</td>\n      <td>578137380 SALARY FROM 234928734</td>\n      <td>3300.00</td>\n      <td>2018.0</td>\n      <td>6.0</td>\n    </tr>\n    <tr>\n      <th>277</th>\n      <td>ea7500e7-45ce-4c99-ad1a-ec95afab429a</td>\n      <td>74</td>\n      <td>2018-06-25T05:00:00.000+0000</td>\n      <td>TRANSPORT</td>\n      <td>280728563 FAST-TREK TRANSPORT</td>\n      <td>-16.46</td>\n      <td>2018.0</td>\n      <td>6.0</td>\n    </tr>\n    <tr>\n      <th>278</th>\n      <td>08741f9e-4ab6-4e05-8c66-18445653f5ba</td>\n      <td>74</td>\n      <td>2018-06-25T14:00:00.000+0000</td>\n      <td>ATM</td>\n      <td>472479907 ATM CASH WTIHDRAWAL</td>\n      <td>-200.00</td>\n      <td>2018.0</td>\n      <td>6.0</td>\n    </tr>\n    <tr>\n      <th>279</th>\n      <td>2d7a5514-bcc6-46ff-abd3-eac53a6bc652</td>\n      <td>74</td>\n      <td>2018-06-26T13:00:00.000+0000</td>\n      <td>F&amp;B</td>\n      <td>427382497 BONES</td>\n      <td>-29.57</td>\n      <td>2018.0</td>\n      <td>6.0</td>\n    </tr>\n    <tr>\n      <th>280</th>\n      <td>1b164be2-0df7-426c-a591-dcf14c8249f5</td>\n      <td>74</td>\n      <td>2018-06-27T13:00:00.000+0000</td>\n      <td>F&amp;B</td>\n      <td>957465345 THE SILK ROOM</td>\n      <td>-24.81</td>\n      <td>2018.0</td>\n      <td>6.0</td>\n    </tr>\n    <tr>\n      <th>281</th>\n      <td>1e3dcc6c-63e9-4ca2-8c0e-28005b1bc429</td>\n      <td>74</td>\n      <td>2018-06-28T19:00:00.000+0000</td>\n      <td>F&amp;B</td>\n      <td>179775939 THE BURGER SHOP</td>\n      <td>-26.05</td>\n      <td>2018.0</td>\n      <td>6.0</td>\n    </tr>\n    <tr>\n      <th>282</th>\n      <td>46644c68-d334-4593-a39e-61d9c4c86fb0</td>\n      <td>74</td>\n      <td>2018-06-28T06:00:00.000+0000</td>\n      <td>ATM</td>\n      <td>195747703 ATM CASH WTIHDRAWAL</td>\n      <td>-200.00</td>\n      <td>2018.0</td>\n      <td>6.0</td>\n    </tr>\n    <tr>\n      <th>283</th>\n      <td>ea0469f2-aa4a-49e9-b929-3514a8e4cd31</td>\n      <td>74</td>\n      <td>2018-06-29T15:00:00.000+0000</td>\n      <td>TRANSPORT</td>\n      <td>687825094 FAST-TREK TRANSPORT</td>\n      <td>-14.24</td>\n      <td>2018.0</td>\n      <td>6.0</td>\n    </tr>\n    <tr>\n      <th>284</th>\n      <td>ac813f84-658a-4eb7-b9ef-392692382b2e</td>\n      <td>74</td>\n      <td>2018-06-30T13:00:00.000+0000</td>\n      <td>F&amp;B</td>\n      <td>453010008 THE JADE ROOSTER</td>\n      <td>-26.65</td>\n      <td>2018.0</td>\n      <td>6.0</td>\n    </tr>\n    <tr>\n      <th>285</th>\n      <td>eafdb811-4bf5-40ed-9c6f-406dadcbe586</td>\n      <td>74</td>\n      <td>2018-06-30T07:00:00.000+0000</td>\n      <td>TRANSPORT</td>\n      <td>339457787 SUBER FAST TRANSPORT PTE LTD</td>\n      <td>-13.76</td>\n      <td>2018.0</td>\n      <td>6.0</td>\n    </tr>\n    <tr>\n      <th>286</th>\n      <td>794ef5e6-8f81-4df6-b32a-c2c4292e7351</td>\n      <td>74</td>\n      <td>2018-07-01T13:00:00.000+0000</td>\n      <td>F&amp;B</td>\n      <td>633132952 THE PROUD TABLE</td>\n      <td>-22.90</td>\n      <td>2018.0</td>\n      <td>7.0</td>\n    </tr>\n    <tr>\n      <th>287</th>\n      <td>60aa5d52-418d-480e-930f-fca552838021</td>\n      <td>74</td>\n      <td>2018-07-01T11:00:00.000+0000</td>\n      <td>TRANSPORT</td>\n      <td>79649592 JACK RIDE HAILING</td>\n      <td>-10.31</td>\n      <td>2018.0</td>\n      <td>7.0</td>\n    </tr>\n    <tr>\n      <th>288</th>\n      <td>0ab95f0d-baac-4979-910c-7db29f14850d</td>\n      <td>74</td>\n      <td>2018-07-02T19:00:00.000+0000</td>\n      <td>F&amp;B</td>\n      <td>5613144 THE PROUD TABLE</td>\n      <td>-30.92</td>\n      <td>2018.0</td>\n      <td>7.0</td>\n    </tr>\n    <tr>\n      <th>289</th>\n      <td>d4c73db0-cd9d-4504-81ea-cf4cf7c7e6d7</td>\n      <td>74</td>\n      <td>2018-07-03T19:00:00.000+0000</td>\n      <td>F&amp;B</td>\n      <td>631156621 THE ROYAL ROSE</td>\n      <td>-22.67</td>\n      <td>2018.0</td>\n      <td>7.0</td>\n    </tr>\n    <tr>\n      <th>290</th>\n      <td>39e2a071-58dd-433c-b674-00522533a084</td>\n      <td>74</td>\n      <td>2018-07-03T07:00:00.000+0000</td>\n      <td>TRANSPORT</td>\n      <td>434368505 SUBER FAST TRANSPORT PTE LTD</td>\n      <td>-17.62</td>\n      <td>2018.0</td>\n      <td>7.0</td>\n    </tr>\n    <tr>\n      <th>291</th>\n      <td>2e27d0ca-3787-4961-8b9d-49d57e22cd05</td>\n      <td>74</td>\n      <td>2018-07-03T08:00:00.000+0000</td>\n      <td>TRANSFER</td>\n      <td>980228447 BANK FAST TRANSFER FROM 829455545</td>\n      <td>57.14</td>\n      <td>2018.0</td>\n      <td>7.0</td>\n    </tr>\n    <tr>\n      <th>292</th>\n      <td>ef52d015-d998-425e-9ed8-6cf6d6448edd</td>\n      <td>74</td>\n      <td>2018-07-04T13:00:00.000+0000</td>\n      <td>F&amp;B</td>\n      <td>106004136 THE SILK ROOM</td>\n      <td>-25.22</td>\n      <td>2018.0</td>\n      <td>7.0</td>\n    </tr>\n    <tr>\n      <th>293</th>\n      <td>4185b90e-d3f6-46a3-ac65-57b21842e32f</td>\n      <td>74</td>\n      <td>2018-07-06T19:00:00.000+0000</td>\n      <td>F&amp;B</td>\n      <td>821783539 THE PROUD TABLE</td>\n      <td>-18.92</td>\n      <td>2018.0</td>\n      <td>7.0</td>\n    </tr>\n    <tr>\n      <th>294</th>\n      <td>8e11c19e-58cc-4ace-9c08-c4321bc25c4f</td>\n      <td>74</td>\n      <td>2018-07-07T19:00:00.000+0000</td>\n      <td>F&amp;B</td>\n      <td>742425972 THE SILK ROOM</td>\n      <td>-25.55</td>\n      <td>2018.0</td>\n      <td>7.0</td>\n    </tr>\n    <tr>\n      <th>295</th>\n      <td>d6fcf94d-b12a-4626-894b-4be00986f8cd</td>\n      <td>74</td>\n      <td>2018-07-08T19:00:00.000+0000</td>\n      <td>F&amp;B</td>\n      <td>713797835 LITTLE PERSIA</td>\n      <td>-20.06</td>\n      <td>2018.0</td>\n      <td>7.0</td>\n    </tr>\n    <tr>\n      <th>296</th>\n      <td>c10aa77b-8073-46f8-bf14-94470f836520</td>\n      <td>74</td>\n      <td>2018-07-08T06:00:00.000+0000</td>\n      <td>TRANSFER</td>\n      <td>999763236 BANK FAST TRANSFER FROM 977218232</td>\n      <td>48.00</td>\n      <td>2018.0</td>\n      <td>7.0</td>\n    </tr>\n    <tr>\n      <th>297</th>\n      <td>2fc69c18-3e53-40d6-a7c7-dfbcbd3abb35</td>\n      <td>74</td>\n      <td>2018-07-09T13:00:00.000+0000</td>\n      <td>F&amp;B</td>\n      <td>32563402 THE VERY BEST CHICKEN RICE</td>\n      <td>-23.83</td>\n      <td>2018.0</td>\n      <td>7.0</td>\n    </tr>\n    <tr>\n      <th>298</th>\n      <td>0e154b78-d52e-4500-9ff5-19a891825b29</td>\n      <td>74</td>\n      <td>2018-07-09T00:00:00.000+0000</td>\n      <td>TRANSPORT</td>\n      <td>698309060 FAST-TREK TRANSPORT</td>\n      <td>-16.83</td>\n      <td>2018.0</td>\n      <td>7.0</td>\n    </tr>\n    <tr>\n      <th>299</th>\n      <td>8ebd875a-995f-40d1-af51-a9a41ccb4067</td>\n      <td>74</td>\n      <td>2018-07-10T19:00:00.000+0000</td>\n      <td>F&amp;B</td>\n      <td>325804637 BONES</td>\n      <td>-25.51</td>\n      <td>2018.0</td>\n      <td>7.0</td>\n    </tr>\n  </tbody>\n</table>\n<p>300 rows × 8 columns</p>\n</div>"
          },
          "metadata": {}
        }
      ]
    },
    {
      "metadata": {
        "trusted": true,
        "_uuid": "84717176f671e2f2ca332556d02cd88bfdacbaab"
      },
      "cell_type": "code",
      "source": "zeyang_df.loc[0, 'referenceNumber'].split(' ',1)",
      "execution_count": 515,
      "outputs": [
        {
          "output_type": "execute_result",
          "execution_count": 515,
          "data": {
            "text/plain": "['789010165', 'FAST-TREK TRANSPORT']"
          },
          "metadata": {}
        }
      ]
    },
    {
      "metadata": {
        "trusted": true,
        "_uuid": "3b918ad2c95fae356d6a89e200453978fecee39d"
      },
      "cell_type": "code",
      "source": "zeyang_df.insert(0, 'Company', 0)",
      "execution_count": 516,
      "outputs": []
    },
    {
      "metadata": {
        "trusted": true,
        "_uuid": "768bb773ece3333243483d83966747612e1f230d"
      },
      "cell_type": "code",
      "source": "for index, row in zeyang_df.iterrows():\n    zeyang_df.loc[index, 'Company'] = zeyang_df.loc[index, 'referenceNumber'].split(' ',1)[1]\n    \nfor index, row in mary_df.iterrows():\n    mary_df.loc[index, 'Company'] = mary_df.loc[index, 'referenceNumber'].split(' ',1)[1]",
      "execution_count": 517,
      "outputs": []
    },
    {
      "metadata": {
        "trusted": true,
        "_uuid": "21dcef23dfe76100dacf8cceb3002e228c913221"
      },
      "cell_type": "code",
      "source": "mary_df = mary_df.drop(['date','referenceNumber'], axis=1)\nzeyang_df = zeyang_df.drop(['date','referenceNumber'], axis=1)",
      "execution_count": 518,
      "outputs": []
    },
    {
      "metadata": {
        "trusted": true,
        "scrolled": true,
        "_uuid": "0e31bae0ba07836ffbb373acf3fcecd0031b9de0"
      },
      "cell_type": "code",
      "source": "mary_df.head(300)",
      "execution_count": 519,
      "outputs": [
        {
          "output_type": "execute_result",
          "execution_count": 519,
          "data": {
            "text/plain": "                            transactionId                ...                                            Company\n0    d1911856-60cc-48fb-aac7-f4cb2be6efba                ...                                              BONES\n1    6aa118cc-9e11-46ce-a420-d3197e1390e8                ...                    BANK FAST TRANSFER TO 415967364\n2    95cfe565-245e-448c-82af-7c4f03b2f36a                ...                                ATM CASH WTIHDRAWAL\n3    8d02bd2b-9e84-4649-903a-2c20abc957cf                ...                                THE VANILLA ORCHARD\n4    808c71cc-f42d-46d2-b7cc-00209260c644                ...                    BANK FAST TRANSFER TO 951547718\n5    4e89d4ec-df99-455a-b7c9-8f4240f71a72                ...                  BANK FAST TRANSFER FROM 420691347\n6    6c821bb3-4fef-48ae-aa38-84db4be5a2a2                ...                                  THE SPRING OYSTER\n7    9e8d5b44-86f8-4fbc-b820-a815ff0c2ac2                ...                     BANK FAST TRANSFER TO 63086689\n8    a992656e-4675-4bb1-82ea-24d895cd9d31                ...                                              BONES\n9    8cd28939-0102-4950-b561-c8b2bb8a3e89                ...                         THE VERY BEST CHICKEN RICE\n10   f0c20a6b-2901-45c7-bcba-2a63634095b8                ...                                  JACK RIDE HAILING\n11   2cabd6e9-5dc4-4e65-9537-9487a9af9eb4                ...                  BANK FAST TRANSFER FROM 638023204\n12   0159b9b5-9952-49db-bb37-87378204ad5d                ...                    BANK FAST TRANSFER TO 522304026\n13   b4a772a2-ded8-4957-81f4-b992d443f507                ...                       SUBER FAST TRANSPORT PTE LTD\n14   84d95c11-a800-4c8f-9136-f19d6e8a7e08                ...                    BANK FAST TRANSFER TO 118897556\n15   f8b5e33a-8c99-430b-a059-b2bd605f77b8                ...                                ATM CASH WTIHDRAWAL\n16   3498ca8a-73a4-4169-a45f-1ffde3ac2eb5                ...                                  JACK RIDE HAILING\n17   6167bfbd-ad3f-4d63-81a3-20f58aa11b1c                ...                         THE VERY BEST CHICKEN RICE\n18   1d771832-c667-48bf-8472-9f9f9d04be05                ...                                    THE BURGER SHOP\n19   4d1ed264-91c5-4b35-b281-3cb0239cd8fc                ...                  BANK FAST TRANSFER FROM 791102030\n20   88404409-c65a-43e4-b793-22ec0b8057fc                ...                               THE OLIVE AFTER DARK\n21   3bd752ba-91f5-4ccd-a9fc-b270410adc69                ...                                FAST-TREK TRANSPORT\n22   c81bc82e-f99b-4a1b-a90f-48050801828f                ...                  BANK FAST TRANSFER FROM 506408939\n23   86667536-9e46-4708-b538-2f373ca21d18                ...                                    THE BURGER SHOP\n24   92dfc654-836b-4092-a24d-0ed347bd8f2d                ...                              CRAZY SPICY THAI FOOD\n25   5e3941fb-aa8e-4cac-a709-b1a51baae6b2                ...                                  JACK RIDE HAILING\n26   d17fcce0-6695-4e08-803f-227ec6d301f5                ...                                    THE PROUD TABLE\n27   29cbab59-b855-4cda-bd1c-73ee1314f12d                ...                                FAST-TREK TRANSPORT\n28   fbba9956-52e8-4094-b89f-8b8e11286775                ...                  BANK FAST TRANSFER FROM 214733407\n29   bdd33047-4850-4f4e-8801-419e05e0aad1                ...                  BANK FAST TRANSFER FROM 409310906\n..                                    ...                ...                                                ...\n270  95b1fb20-79e5-4446-83fd-ce1984746f71                ...                               THE OLIVE AFTER DARK\n271  940a6afd-4295-4b1c-a6b0-5368fee8909f                ...                  BANK FAST TRANSFER FROM 208921570\n272  8132bc5a-5ad0-409a-86e7-ee6a7df96e6b                ...                                      THE SILK ROOM\n273  0a131b22-1210-4f46-bda8-527416d4d131                ...                                  JACK RIDE HAILING\n274  1888b146-8c53-4543-ae7f-5543ab2b55ff                ...                  BANK FAST TRANSFER FROM 164225165\n275  999ce3c7-16f0-4718-a75a-183b9535e19b                ...                                   THE JADE ROOSTER\n276  26b7b0dd-3c66-4d18-9409-111cdff8c486                ...                  BANK FAST TRANSFER FROM 857155197\n277  92e6217a-352c-4e2c-9600-b41e0f0b7d1a                ...                              CRAZY SPICY THAI FOOD\n278  c9f96d41-75ac-4376-9f67-447c280594c5                ...                    BANK FAST TRANSFER TO 549404578\n279  3dd521f2-86d6-49ff-a9ef-1e0968476d38                ...                  BANK FAST TRANSFER FROM 568171077\n280  cfd786be-ed23-432a-9d1e-ca23c1282238                ...                                  THE ORIGINAL GOAT\n281  e04d36b8-e5f7-4455-bf85-1a55db762ac3                ...                    BANK FAST TRANSFER TO 763066276\n282  2dcccb74-fecf-41ee-99b7-589a217e1ad3                ...                                ATM CASH WTIHDRAWAL\n283  b3052a8e-427c-4473-b46b-baa885ba8484                ...                   BANK FAST TRANSFER FROM 61532501\n284  b06de470-7d64-4ec7-a8f9-9a59745a08c9                ...                                  JACK RIDE HAILING\n285  86bd783b-2ebd-448a-ae23-c8f4c390aec6                ...                  BANK FAST TRANSFER FROM 560198244\n286  d4fd0db9-303e-494a-8656-39e980bff633                ...                        FLYING DUMPLINGS RESTAURANT\n287  39310a97-88ff-4126-b4a0-e0bc82084950                ...                    BANK FAST TRANSFER TO 192827539\n288  87cd2186-5843-4b70-a1f9-070deef5c22d                ...                                  THE ORIGINAL GOAT\n289  88140136-fdd0-4f96-9f49-de44e0af5c3f                ...                       SUBER FAST TRANSPORT PTE LTD\n290  593753c5-f13b-4ab8-aacf-781fb1ed176a                ...                   BANK FAST TRANSFER FROM 65723442\n291  b9056154-5759-471c-a577-41e4dd629ae0                ...                   BANK FAST TRANSFER FROM 56267118\n292  0fa52467-5114-4032-b6de-0c4560cc7420                ...                              CRAZY SPICY THAI FOOD\n293  3d10aa2e-c2e0-4d6a-86f3-fc0334d5c499                ...                                THE VANILLA ORCHARD\n294  44cf438c-5454-4b07-b9eb-dd036a17df8f                ...                  BANK FAST TRANSFER FROM 356217790\n295  d597448a-bdd3-4bb9-a283-9826d2f1ad57                ...                                  THE SPRING OYSTER\n296  9800e068-dffd-4be3-bee7-4f3d99c683e1                ...                  BANK FAST TRANSFER FROM 923456789\n297  13f6ef39-f95b-42eb-8266-de88f885493d                ...                                FAST-TREK TRANSPORT\n298  1e6170d3-cdde-4682-b452-4e8954c043d5                ...                    BANK FAST TRANSFER TO 727072192\n299  610d2b29-c74e-4b37-9bf7-e21c6a0a1493                ...                                    THE BURGER SHOP\n\n[300 rows x 7 columns]",
            "text/html": "<div>\n<style scoped>\n    .dataframe tbody tr th:only-of-type {\n        vertical-align: middle;\n    }\n\n    .dataframe tbody tr th {\n        vertical-align: top;\n    }\n\n    .dataframe thead th {\n        text-align: right;\n    }\n</style>\n<table border=\"1\" class=\"dataframe\">\n  <thead>\n    <tr style=\"text-align: right;\">\n      <th></th>\n      <th>transactionId</th>\n      <th>accountId</th>\n      <th>tag</th>\n      <th>new_amount</th>\n      <th>Year</th>\n      <th>Month</th>\n      <th>Company</th>\n    </tr>\n  </thead>\n  <tbody>\n    <tr>\n      <th>0</th>\n      <td>d1911856-60cc-48fb-aac7-f4cb2be6efba</td>\n      <td>10</td>\n      <td>F&amp;B</td>\n      <td>-16.41</td>\n      <td>2018.0</td>\n      <td>1.0</td>\n      <td>BONES</td>\n    </tr>\n    <tr>\n      <th>1</th>\n      <td>6aa118cc-9e11-46ce-a420-d3197e1390e8</td>\n      <td>10</td>\n      <td>TRANSFER</td>\n      <td>-21.31</td>\n      <td>2018.0</td>\n      <td>1.0</td>\n      <td>BANK FAST TRANSFER TO 415967364</td>\n    </tr>\n    <tr>\n      <th>2</th>\n      <td>95cfe565-245e-448c-82af-7c4f03b2f36a</td>\n      <td>10</td>\n      <td>ATM</td>\n      <td>-50.00</td>\n      <td>2018.0</td>\n      <td>1.0</td>\n      <td>ATM CASH WTIHDRAWAL</td>\n    </tr>\n    <tr>\n      <th>3</th>\n      <td>8d02bd2b-9e84-4649-903a-2c20abc957cf</td>\n      <td>10</td>\n      <td>F&amp;B</td>\n      <td>-11.34</td>\n      <td>2018.0</td>\n      <td>1.0</td>\n      <td>THE VANILLA ORCHARD</td>\n    </tr>\n    <tr>\n      <th>4</th>\n      <td>808c71cc-f42d-46d2-b7cc-00209260c644</td>\n      <td>10</td>\n      <td>TRANSFER</td>\n      <td>-19.00</td>\n      <td>2018.0</td>\n      <td>1.0</td>\n      <td>BANK FAST TRANSFER TO 951547718</td>\n    </tr>\n    <tr>\n      <th>5</th>\n      <td>4e89d4ec-df99-455a-b7c9-8f4240f71a72</td>\n      <td>10</td>\n      <td>TRANSFER</td>\n      <td>15.83</td>\n      <td>2018.0</td>\n      <td>1.0</td>\n      <td>BANK FAST TRANSFER FROM 420691347</td>\n    </tr>\n    <tr>\n      <th>6</th>\n      <td>6c821bb3-4fef-48ae-aa38-84db4be5a2a2</td>\n      <td>10</td>\n      <td>F&amp;B</td>\n      <td>-14.58</td>\n      <td>2018.0</td>\n      <td>1.0</td>\n      <td>THE SPRING OYSTER</td>\n    </tr>\n    <tr>\n      <th>7</th>\n      <td>9e8d5b44-86f8-4fbc-b820-a815ff0c2ac2</td>\n      <td>10</td>\n      <td>TRANSFER</td>\n      <td>-12.63</td>\n      <td>2018.0</td>\n      <td>1.0</td>\n      <td>BANK FAST TRANSFER TO 63086689</td>\n    </tr>\n    <tr>\n      <th>8</th>\n      <td>a992656e-4675-4bb1-82ea-24d895cd9d31</td>\n      <td>10</td>\n      <td>F&amp;B</td>\n      <td>-8.93</td>\n      <td>2018.0</td>\n      <td>5.0</td>\n      <td>BONES</td>\n    </tr>\n    <tr>\n      <th>9</th>\n      <td>8cd28939-0102-4950-b561-c8b2bb8a3e89</td>\n      <td>10</td>\n      <td>F&amp;B</td>\n      <td>-11.71</td>\n      <td>2018.0</td>\n      <td>1.0</td>\n      <td>THE VERY BEST CHICKEN RICE</td>\n    </tr>\n    <tr>\n      <th>10</th>\n      <td>f0c20a6b-2901-45c7-bcba-2a63634095b8</td>\n      <td>10</td>\n      <td>TRANSPORT</td>\n      <td>-12.16</td>\n      <td>2018.0</td>\n      <td>1.0</td>\n      <td>JACK RIDE HAILING</td>\n    </tr>\n    <tr>\n      <th>11</th>\n      <td>2cabd6e9-5dc4-4e65-9537-9487a9af9eb4</td>\n      <td>10</td>\n      <td>TRANSFER</td>\n      <td>16.39</td>\n      <td>2018.0</td>\n      <td>1.0</td>\n      <td>BANK FAST TRANSFER FROM 638023204</td>\n    </tr>\n    <tr>\n      <th>12</th>\n      <td>0159b9b5-9952-49db-bb37-87378204ad5d</td>\n      <td>10</td>\n      <td>TRANSFER</td>\n      <td>-20.96</td>\n      <td>2018.0</td>\n      <td>1.0</td>\n      <td>BANK FAST TRANSFER TO 522304026</td>\n    </tr>\n    <tr>\n      <th>13</th>\n      <td>b4a772a2-ded8-4957-81f4-b992d443f507</td>\n      <td>10</td>\n      <td>TRANSPORT</td>\n      <td>-14.11</td>\n      <td>2018.0</td>\n      <td>1.0</td>\n      <td>SUBER FAST TRANSPORT PTE LTD</td>\n    </tr>\n    <tr>\n      <th>14</th>\n      <td>84d95c11-a800-4c8f-9136-f19d6e8a7e08</td>\n      <td>10</td>\n      <td>TRANSFER</td>\n      <td>-10.73</td>\n      <td>2018.0</td>\n      <td>1.0</td>\n      <td>BANK FAST TRANSFER TO 118897556</td>\n    </tr>\n    <tr>\n      <th>15</th>\n      <td>f8b5e33a-8c99-430b-a059-b2bd605f77b8</td>\n      <td>10</td>\n      <td>ATM</td>\n      <td>-50.00</td>\n      <td>2018.0</td>\n      <td>1.0</td>\n      <td>ATM CASH WTIHDRAWAL</td>\n    </tr>\n    <tr>\n      <th>16</th>\n      <td>3498ca8a-73a4-4169-a45f-1ffde3ac2eb5</td>\n      <td>10</td>\n      <td>TRANSPORT</td>\n      <td>-15.04</td>\n      <td>2018.0</td>\n      <td>1.0</td>\n      <td>JACK RIDE HAILING</td>\n    </tr>\n    <tr>\n      <th>17</th>\n      <td>6167bfbd-ad3f-4d63-81a3-20f58aa11b1c</td>\n      <td>10</td>\n      <td>F&amp;B</td>\n      <td>-13.70</td>\n      <td>2018.0</td>\n      <td>1.0</td>\n      <td>THE VERY BEST CHICKEN RICE</td>\n    </tr>\n    <tr>\n      <th>18</th>\n      <td>1d771832-c667-48bf-8472-9f9f9d04be05</td>\n      <td>10</td>\n      <td>F&amp;B</td>\n      <td>-8.80</td>\n      <td>2018.0</td>\n      <td>1.0</td>\n      <td>THE BURGER SHOP</td>\n    </tr>\n    <tr>\n      <th>19</th>\n      <td>4d1ed264-91c5-4b35-b281-3cb0239cd8fc</td>\n      <td>10</td>\n      <td>TRANSFER</td>\n      <td>20.48</td>\n      <td>2018.0</td>\n      <td>1.0</td>\n      <td>BANK FAST TRANSFER FROM 791102030</td>\n    </tr>\n    <tr>\n      <th>20</th>\n      <td>88404409-c65a-43e4-b793-22ec0b8057fc</td>\n      <td>10</td>\n      <td>F&amp;B</td>\n      <td>-15.41</td>\n      <td>2018.0</td>\n      <td>1.0</td>\n      <td>THE OLIVE AFTER DARK</td>\n    </tr>\n    <tr>\n      <th>21</th>\n      <td>3bd752ba-91f5-4ccd-a9fc-b270410adc69</td>\n      <td>10</td>\n      <td>TRANSPORT</td>\n      <td>-11.97</td>\n      <td>2018.0</td>\n      <td>1.0</td>\n      <td>FAST-TREK TRANSPORT</td>\n    </tr>\n    <tr>\n      <th>22</th>\n      <td>c81bc82e-f99b-4a1b-a90f-48050801828f</td>\n      <td>10</td>\n      <td>TRANSFER</td>\n      <td>20.40</td>\n      <td>2018.0</td>\n      <td>1.0</td>\n      <td>BANK FAST TRANSFER FROM 506408939</td>\n    </tr>\n    <tr>\n      <th>23</th>\n      <td>86667536-9e46-4708-b538-2f373ca21d18</td>\n      <td>10</td>\n      <td>F&amp;B</td>\n      <td>-7.40</td>\n      <td>2018.0</td>\n      <td>1.0</td>\n      <td>THE BURGER SHOP</td>\n    </tr>\n    <tr>\n      <th>24</th>\n      <td>92dfc654-836b-4092-a24d-0ed347bd8f2d</td>\n      <td>10</td>\n      <td>F&amp;B</td>\n      <td>-13.72</td>\n      <td>2018.0</td>\n      <td>1.0</td>\n      <td>CRAZY SPICY THAI FOOD</td>\n    </tr>\n    <tr>\n      <th>25</th>\n      <td>5e3941fb-aa8e-4cac-a709-b1a51baae6b2</td>\n      <td>10</td>\n      <td>TRANSPORT</td>\n      <td>-10.95</td>\n      <td>2018.0</td>\n      <td>1.0</td>\n      <td>JACK RIDE HAILING</td>\n    </tr>\n    <tr>\n      <th>26</th>\n      <td>d17fcce0-6695-4e08-803f-227ec6d301f5</td>\n      <td>10</td>\n      <td>F&amp;B</td>\n      <td>-15.06</td>\n      <td>2018.0</td>\n      <td>1.0</td>\n      <td>THE PROUD TABLE</td>\n    </tr>\n    <tr>\n      <th>27</th>\n      <td>29cbab59-b855-4cda-bd1c-73ee1314f12d</td>\n      <td>10</td>\n      <td>TRANSPORT</td>\n      <td>-16.30</td>\n      <td>2018.0</td>\n      <td>1.0</td>\n      <td>FAST-TREK TRANSPORT</td>\n    </tr>\n    <tr>\n      <th>28</th>\n      <td>fbba9956-52e8-4094-b89f-8b8e11286775</td>\n      <td>10</td>\n      <td>TRANSFER</td>\n      <td>15.78</td>\n      <td>2018.0</td>\n      <td>1.0</td>\n      <td>BANK FAST TRANSFER FROM 214733407</td>\n    </tr>\n    <tr>\n      <th>29</th>\n      <td>bdd33047-4850-4f4e-8801-419e05e0aad1</td>\n      <td>10</td>\n      <td>TRANSFER</td>\n      <td>19.48</td>\n      <td>2018.0</td>\n      <td>1.0</td>\n      <td>BANK FAST TRANSFER FROM 409310906</td>\n    </tr>\n    <tr>\n      <th>...</th>\n      <td>...</td>\n      <td>...</td>\n      <td>...</td>\n      <td>...</td>\n      <td>...</td>\n      <td>...</td>\n      <td>...</td>\n    </tr>\n    <tr>\n      <th>270</th>\n      <td>95b1fb20-79e5-4446-83fd-ce1984746f71</td>\n      <td>10</td>\n      <td>F&amp;B</td>\n      <td>-8.57</td>\n      <td>2018.0</td>\n      <td>7.0</td>\n      <td>THE OLIVE AFTER DARK</td>\n    </tr>\n    <tr>\n      <th>271</th>\n      <td>940a6afd-4295-4b1c-a6b0-5368fee8909f</td>\n      <td>10</td>\n      <td>TRANSFER</td>\n      <td>15.44</td>\n      <td>2018.0</td>\n      <td>7.0</td>\n      <td>BANK FAST TRANSFER FROM 208921570</td>\n    </tr>\n    <tr>\n      <th>272</th>\n      <td>8132bc5a-5ad0-409a-86e7-ee6a7df96e6b</td>\n      <td>10</td>\n      <td>F&amp;B</td>\n      <td>-15.25</td>\n      <td>2018.0</td>\n      <td>8.0</td>\n      <td>THE SILK ROOM</td>\n    </tr>\n    <tr>\n      <th>273</th>\n      <td>0a131b22-1210-4f46-bda8-527416d4d131</td>\n      <td>10</td>\n      <td>TRANSPORT</td>\n      <td>-17.32</td>\n      <td>2018.0</td>\n      <td>8.0</td>\n      <td>JACK RIDE HAILING</td>\n    </tr>\n    <tr>\n      <th>274</th>\n      <td>1888b146-8c53-4543-ae7f-5543ab2b55ff</td>\n      <td>10</td>\n      <td>TRANSFER</td>\n      <td>18.92</td>\n      <td>2018.0</td>\n      <td>8.0</td>\n      <td>BANK FAST TRANSFER FROM 164225165</td>\n    </tr>\n    <tr>\n      <th>275</th>\n      <td>999ce3c7-16f0-4718-a75a-183b9535e19b</td>\n      <td>10</td>\n      <td>F&amp;B</td>\n      <td>-10.63</td>\n      <td>2018.0</td>\n      <td>8.0</td>\n      <td>THE JADE ROOSTER</td>\n    </tr>\n    <tr>\n      <th>276</th>\n      <td>26b7b0dd-3c66-4d18-9409-111cdff8c486</td>\n      <td>10</td>\n      <td>TRANSFER</td>\n      <td>23.26</td>\n      <td>2018.0</td>\n      <td>8.0</td>\n      <td>BANK FAST TRANSFER FROM 857155197</td>\n    </tr>\n    <tr>\n      <th>277</th>\n      <td>92e6217a-352c-4e2c-9600-b41e0f0b7d1a</td>\n      <td>10</td>\n      <td>F&amp;B</td>\n      <td>-9.38</td>\n      <td>2018.0</td>\n      <td>8.0</td>\n      <td>CRAZY SPICY THAI FOOD</td>\n    </tr>\n    <tr>\n      <th>278</th>\n      <td>c9f96d41-75ac-4376-9f67-447c280594c5</td>\n      <td>10</td>\n      <td>TRANSFER</td>\n      <td>-14.64</td>\n      <td>2018.0</td>\n      <td>8.0</td>\n      <td>BANK FAST TRANSFER TO 549404578</td>\n    </tr>\n    <tr>\n      <th>279</th>\n      <td>3dd521f2-86d6-49ff-a9ef-1e0968476d38</td>\n      <td>10</td>\n      <td>TRANSFER</td>\n      <td>14.31</td>\n      <td>2018.0</td>\n      <td>8.0</td>\n      <td>BANK FAST TRANSFER FROM 568171077</td>\n    </tr>\n    <tr>\n      <th>280</th>\n      <td>cfd786be-ed23-432a-9d1e-ca23c1282238</td>\n      <td>10</td>\n      <td>F&amp;B</td>\n      <td>-9.02</td>\n      <td>2018.0</td>\n      <td>8.0</td>\n      <td>THE ORIGINAL GOAT</td>\n    </tr>\n    <tr>\n      <th>281</th>\n      <td>e04d36b8-e5f7-4455-bf85-1a55db762ac3</td>\n      <td>10</td>\n      <td>TRANSFER</td>\n      <td>-15.24</td>\n      <td>2018.0</td>\n      <td>8.0</td>\n      <td>BANK FAST TRANSFER TO 763066276</td>\n    </tr>\n    <tr>\n      <th>282</th>\n      <td>2dcccb74-fecf-41ee-99b7-589a217e1ad3</td>\n      <td>10</td>\n      <td>ATM</td>\n      <td>-50.00</td>\n      <td>2018.0</td>\n      <td>8.0</td>\n      <td>ATM CASH WTIHDRAWAL</td>\n    </tr>\n    <tr>\n      <th>283</th>\n      <td>b3052a8e-427c-4473-b46b-baa885ba8484</td>\n      <td>10</td>\n      <td>TRANSFER</td>\n      <td>18.09</td>\n      <td>2018.0</td>\n      <td>8.0</td>\n      <td>BANK FAST TRANSFER FROM 61532501</td>\n    </tr>\n    <tr>\n      <th>284</th>\n      <td>b06de470-7d64-4ec7-a8f9-9a59745a08c9</td>\n      <td>10</td>\n      <td>TRANSPORT</td>\n      <td>-11.05</td>\n      <td>2018.0</td>\n      <td>8.0</td>\n      <td>JACK RIDE HAILING</td>\n    </tr>\n    <tr>\n      <th>285</th>\n      <td>86bd783b-2ebd-448a-ae23-c8f4c390aec6</td>\n      <td>10</td>\n      <td>TRANSFER</td>\n      <td>10.01</td>\n      <td>2018.0</td>\n      <td>8.0</td>\n      <td>BANK FAST TRANSFER FROM 560198244</td>\n    </tr>\n    <tr>\n      <th>286</th>\n      <td>d4fd0db9-303e-494a-8656-39e980bff633</td>\n      <td>10</td>\n      <td>F&amp;B</td>\n      <td>-12.86</td>\n      <td>2018.0</td>\n      <td>8.0</td>\n      <td>FLYING DUMPLINGS RESTAURANT</td>\n    </tr>\n    <tr>\n      <th>287</th>\n      <td>39310a97-88ff-4126-b4a0-e0bc82084950</td>\n      <td>10</td>\n      <td>TRANSFER</td>\n      <td>-13.46</td>\n      <td>2018.0</td>\n      <td>8.0</td>\n      <td>BANK FAST TRANSFER TO 192827539</td>\n    </tr>\n    <tr>\n      <th>288</th>\n      <td>87cd2186-5843-4b70-a1f9-070deef5c22d</td>\n      <td>10</td>\n      <td>F&amp;B</td>\n      <td>-13.83</td>\n      <td>2018.0</td>\n      <td>8.0</td>\n      <td>THE ORIGINAL GOAT</td>\n    </tr>\n    <tr>\n      <th>289</th>\n      <td>88140136-fdd0-4f96-9f49-de44e0af5c3f</td>\n      <td>10</td>\n      <td>TRANSPORT</td>\n      <td>-15.74</td>\n      <td>2018.0</td>\n      <td>8.0</td>\n      <td>SUBER FAST TRANSPORT PTE LTD</td>\n    </tr>\n    <tr>\n      <th>290</th>\n      <td>593753c5-f13b-4ab8-aacf-781fb1ed176a</td>\n      <td>10</td>\n      <td>TRANSFER</td>\n      <td>20.52</td>\n      <td>2018.0</td>\n      <td>8.0</td>\n      <td>BANK FAST TRANSFER FROM 65723442</td>\n    </tr>\n    <tr>\n      <th>291</th>\n      <td>b9056154-5759-471c-a577-41e4dd629ae0</td>\n      <td>10</td>\n      <td>TRANSFER</td>\n      <td>13.21</td>\n      <td>2018.0</td>\n      <td>8.0</td>\n      <td>BANK FAST TRANSFER FROM 56267118</td>\n    </tr>\n    <tr>\n      <th>292</th>\n      <td>0fa52467-5114-4032-b6de-0c4560cc7420</td>\n      <td>10</td>\n      <td>F&amp;B</td>\n      <td>-15.95</td>\n      <td>2018.0</td>\n      <td>8.0</td>\n      <td>CRAZY SPICY THAI FOOD</td>\n    </tr>\n    <tr>\n      <th>293</th>\n      <td>3d10aa2e-c2e0-4d6a-86f3-fc0334d5c499</td>\n      <td>10</td>\n      <td>F&amp;B</td>\n      <td>-8.20</td>\n      <td>2018.0</td>\n      <td>8.0</td>\n      <td>THE VANILLA ORCHARD</td>\n    </tr>\n    <tr>\n      <th>294</th>\n      <td>44cf438c-5454-4b07-b9eb-dd036a17df8f</td>\n      <td>10</td>\n      <td>TRANSFER</td>\n      <td>17.16</td>\n      <td>2018.0</td>\n      <td>8.0</td>\n      <td>BANK FAST TRANSFER FROM 356217790</td>\n    </tr>\n    <tr>\n      <th>295</th>\n      <td>d597448a-bdd3-4bb9-a283-9826d2f1ad57</td>\n      <td>10</td>\n      <td>F&amp;B</td>\n      <td>-13.06</td>\n      <td>2018.0</td>\n      <td>8.0</td>\n      <td>THE SPRING OYSTER</td>\n    </tr>\n    <tr>\n      <th>296</th>\n      <td>9800e068-dffd-4be3-bee7-4f3d99c683e1</td>\n      <td>10</td>\n      <td>TRANSFER</td>\n      <td>800.00</td>\n      <td>2018.0</td>\n      <td>8.0</td>\n      <td>BANK FAST TRANSFER FROM 923456789</td>\n    </tr>\n    <tr>\n      <th>297</th>\n      <td>13f6ef39-f95b-42eb-8266-de88f885493d</td>\n      <td>10</td>\n      <td>TRANSPORT</td>\n      <td>-10.24</td>\n      <td>2018.0</td>\n      <td>8.0</td>\n      <td>FAST-TREK TRANSPORT</td>\n    </tr>\n    <tr>\n      <th>298</th>\n      <td>1e6170d3-cdde-4682-b452-4e8954c043d5</td>\n      <td>10</td>\n      <td>TRANSFER</td>\n      <td>-17.94</td>\n      <td>2018.0</td>\n      <td>8.0</td>\n      <td>BANK FAST TRANSFER TO 727072192</td>\n    </tr>\n    <tr>\n      <th>299</th>\n      <td>610d2b29-c74e-4b37-9bf7-e21c6a0a1493</td>\n      <td>10</td>\n      <td>F&amp;B</td>\n      <td>-11.67</td>\n      <td>2018.0</td>\n      <td>8.0</td>\n      <td>THE BURGER SHOP</td>\n    </tr>\n  </tbody>\n</table>\n<p>300 rows × 7 columns</p>\n</div>"
          },
          "metadata": {}
        }
      ]
    },
    {
      "metadata": {
        "trusted": true,
        "_uuid": "7a9f3188e3e509fa2c6b1393d2a97dc84e39fbfa"
      },
      "cell_type": "code",
      "source": "mary_df.Month.value_counts()",
      "execution_count": 520,
      "outputs": [
        {
          "output_type": "execute_result",
          "execution_count": 520,
          "data": {
            "text/plain": "1.0     74\n7.0     45\n5.0     44\n11.0    41\n6.0     40\n10.0    39\n9.0     38\n3.0     38\n12.0    37\n4.0     35\n2.0     32\n8.0     31\nName: Month, dtype: int64"
          },
          "metadata": {}
        }
      ]
    },
    {
      "metadata": {
        "trusted": true,
        "_uuid": "4ec17f997c9974b252b17ece2a91b64aaa6cedad"
      },
      "cell_type": "code",
      "source": "mary_df = mary_df.drop('Company', axis=1)\nzeyang_df = zeyang_df.drop('Company', axis=1)",
      "execution_count": 521,
      "outputs": []
    },
    {
      "metadata": {
        "trusted": true,
        "_uuid": "51119a90597e3ff23819fe0958dc3e43ead02eaa"
      },
      "cell_type": "code",
      "source": "mary_df.head(3)",
      "execution_count": 522,
      "outputs": [
        {
          "output_type": "execute_result",
          "execution_count": 522,
          "data": {
            "text/plain": "                          transactionId  accountId  ...      Year  Month\n0  d1911856-60cc-48fb-aac7-f4cb2be6efba         10  ...    2018.0    1.0\n1  6aa118cc-9e11-46ce-a420-d3197e1390e8         10  ...    2018.0    1.0\n2  95cfe565-245e-448c-82af-7c4f03b2f36a         10  ...    2018.0    1.0\n\n[3 rows x 6 columns]",
            "text/html": "<div>\n<style scoped>\n    .dataframe tbody tr th:only-of-type {\n        vertical-align: middle;\n    }\n\n    .dataframe tbody tr th {\n        vertical-align: top;\n    }\n\n    .dataframe thead th {\n        text-align: right;\n    }\n</style>\n<table border=\"1\" class=\"dataframe\">\n  <thead>\n    <tr style=\"text-align: right;\">\n      <th></th>\n      <th>transactionId</th>\n      <th>accountId</th>\n      <th>tag</th>\n      <th>new_amount</th>\n      <th>Year</th>\n      <th>Month</th>\n    </tr>\n  </thead>\n  <tbody>\n    <tr>\n      <th>0</th>\n      <td>d1911856-60cc-48fb-aac7-f4cb2be6efba</td>\n      <td>10</td>\n      <td>F&amp;B</td>\n      <td>-16.41</td>\n      <td>2018.0</td>\n      <td>1.0</td>\n    </tr>\n    <tr>\n      <th>1</th>\n      <td>6aa118cc-9e11-46ce-a420-d3197e1390e8</td>\n      <td>10</td>\n      <td>TRANSFER</td>\n      <td>-21.31</td>\n      <td>2018.0</td>\n      <td>1.0</td>\n    </tr>\n    <tr>\n      <th>2</th>\n      <td>95cfe565-245e-448c-82af-7c4f03b2f36a</td>\n      <td>10</td>\n      <td>ATM</td>\n      <td>-50.00</td>\n      <td>2018.0</td>\n      <td>1.0</td>\n    </tr>\n  </tbody>\n</table>\n</div>"
          },
          "metadata": {}
        }
      ]
    },
    {
      "metadata": {
        "trusted": true,
        "_uuid": "a0aa0494bf59a1ceaf8fec9866975b0c8a6d081e"
      },
      "cell_type": "code",
      "source": "for index, row in zeyang_df.iterrows():\n    zeyang_df.loc[index, 'Period'] = str(zeyang_df.loc[index, 'Month']) + '/' + str(zeyang_df.loc[index, 'Year'])\n    \nfor index, row in mary_df.iterrows():\n    mary_df.loc[index, 'Period'] = str(mary_df.loc[index, 'Month']) + '/' + str(mary_df.loc[index, 'Year'])",
      "execution_count": 523,
      "outputs": []
    },
    {
      "metadata": {
        "trusted": true,
        "scrolled": true,
        "_uuid": "27dd9a207189d1066426b5094b72a222ce649498"
      },
      "cell_type": "code",
      "source": "zeyang_df.Period.value_counts()",
      "execution_count": 524,
      "outputs": [
        {
          "output_type": "execute_result",
          "execution_count": 524,
          "data": {
            "text/plain": "3.0/2018.0     54\n10.0/2018.0    54\n5.0/2018.0     54\n8.0/2018.0     53\n6.0/2018.0     51\n7.0/2018.0     48\n4.0/2018.0     48\n9.0/2018.0     47\n11.0/2018.0    46\n12.0/2018.0    46\n1.0/2019.0     43\n1.0/2018.0     41\n2.0/2018.0     38\nName: Period, dtype: int64"
          },
          "metadata": {}
        }
      ]
    },
    {
      "metadata": {
        "trusted": true,
        "_uuid": "38a4513a9b1fa3298c94727a59f4c435e61e0f35"
      },
      "cell_type": "code",
      "source": "out_mary_df = mary_df.loc[mary_df['new_amount']<0]\nin_mary_df = mary_df.loc[mary_df['new_amount']>0]\n\nout_zeyang_df = zeyang_df.loc[zeyang_df['new_amount']<0]\nin_zeyang_df = zeyang_df.loc[zeyang_df['new_amount']>0]\n\n",
      "execution_count": 525,
      "outputs": []
    },
    {
      "metadata": {
        "trusted": true,
        "_uuid": "7808cc8e07a108f2884124b65feb99ae63e56459"
      },
      "cell_type": "code",
      "source": "in_mary_df = in_mary_df.groupby(['tag'])['new_amount'].sum()\nout_mary_df = out_mary_df.groupby(['tag'])['new_amount'].sum()\n\nin_zeyang_df = in_zeyang_df.groupby(['tag'])['new_amount'].sum()\nout_zeyang_df = out_zeyang_df.groupby(['tag'])['new_amount'].sum()\n\nin_mary_df = pd.DataFrame(in_mary_df)\nout_mary_df = pd.DataFrame(out_mary_df)\nin_zeyang_df = pd.DataFrame(in_zeyang_df)\nout_zeyang_df = pd.DataFrame(out_zeyang_df)",
      "execution_count": 526,
      "outputs": []
    },
    {
      "metadata": {
        "trusted": true,
        "_uuid": "15bb1ec2264729de8cb6a49cc42fb2989c5e1589"
      },
      "cell_type": "code",
      "source": "out_mary_df.head()",
      "execution_count": 527,
      "outputs": [
        {
          "output_type": "execute_result",
          "execution_count": 527,
          "data": {
            "text/plain": "           new_amount\ntag                  \nATM          -2700.00\nF&B          -2199.70\nTRANSFER     -1377.00\nTRANSPORT    -1167.82",
            "text/html": "<div>\n<style scoped>\n    .dataframe tbody tr th:only-of-type {\n        vertical-align: middle;\n    }\n\n    .dataframe tbody tr th {\n        vertical-align: top;\n    }\n\n    .dataframe thead th {\n        text-align: right;\n    }\n</style>\n<table border=\"1\" class=\"dataframe\">\n  <thead>\n    <tr style=\"text-align: right;\">\n      <th></th>\n      <th>new_amount</th>\n    </tr>\n    <tr>\n      <th>tag</th>\n      <th></th>\n    </tr>\n  </thead>\n  <tbody>\n    <tr>\n      <th>ATM</th>\n      <td>-2700.00</td>\n    </tr>\n    <tr>\n      <th>F&amp;B</th>\n      <td>-2199.70</td>\n    </tr>\n    <tr>\n      <th>TRANSFER</th>\n      <td>-1377.00</td>\n    </tr>\n    <tr>\n      <th>TRANSPORT</th>\n      <td>-1167.82</td>\n    </tr>\n  </tbody>\n</table>\n</div>"
          },
          "metadata": {}
        }
      ]
    },
    {
      "metadata": {
        "trusted": true,
        "_uuid": "4f9a01172eea130845a774a60a1250f29dbc00b9"
      },
      "cell_type": "code",
      "source": "in_mary_df = in_mary_df/13\nout_mary_df = out_mary_df/13\n\nin_zeyang_df = in_zeyang_df/13\nout_zeyang_df = out_zeyang_df/13\n",
      "execution_count": 528,
      "outputs": []
    },
    {
      "metadata": {
        "trusted": true,
        "_uuid": "b27e7d9b188c3066265c101e98d5a8c9cabc01fc"
      },
      "cell_type": "code",
      "source": "out_mary_df, in_mary_df, in_zeyang_df, out_zeyang_df",
      "execution_count": 529,
      "outputs": [
        {
          "output_type": "execute_result",
          "execution_count": 529,
          "data": {
            "text/plain": "(           new_amount\n tag                  \n ATM       -207.692308\n F&B       -169.207692\n TRANSFER  -105.923077\n TRANSPORT  -89.832308,           new_amount\n tag                 \n TRANSFER  931.503077,            new_amount\n tag                  \n TRANSFER  3372.537692,            new_amount\n tag                  \n ATM       -923.076923\n F&B       -611.286923\n TRANSFER   -69.070769\n TRANSPORT -224.879231)"
          },
          "metadata": {}
        }
      ]
    },
    {
      "metadata": {
        "trusted": true,
        "_uuid": "10b6c74cf1526f882c10f46526b54115291d36cc"
      },
      "cell_type": "code",
      "source": "out_mary_df",
      "execution_count": 530,
      "outputs": [
        {
          "output_type": "execute_result",
          "execution_count": 530,
          "data": {
            "text/plain": "           new_amount\ntag                  \nATM       -207.692308\nF&B       -169.207692\nTRANSFER  -105.923077\nTRANSPORT  -89.832308",
            "text/html": "<div>\n<style scoped>\n    .dataframe tbody tr th:only-of-type {\n        vertical-align: middle;\n    }\n\n    .dataframe tbody tr th {\n        vertical-align: top;\n    }\n\n    .dataframe thead th {\n        text-align: right;\n    }\n</style>\n<table border=\"1\" class=\"dataframe\">\n  <thead>\n    <tr style=\"text-align: right;\">\n      <th></th>\n      <th>new_amount</th>\n    </tr>\n    <tr>\n      <th>tag</th>\n      <th></th>\n    </tr>\n  </thead>\n  <tbody>\n    <tr>\n      <th>ATM</th>\n      <td>-207.692308</td>\n    </tr>\n    <tr>\n      <th>F&amp;B</th>\n      <td>-169.207692</td>\n    </tr>\n    <tr>\n      <th>TRANSFER</th>\n      <td>-105.923077</td>\n    </tr>\n    <tr>\n      <th>TRANSPORT</th>\n      <td>-89.832308</td>\n    </tr>\n  </tbody>\n</table>\n</div>"
          },
          "metadata": {}
        }
      ]
    },
    {
      "metadata": {
        "trusted": true,
        "_uuid": "42e2d283f47fffb323df9c2e3c8509c2aa80e817"
      },
      "cell_type": "code",
      "source": "# for index, row in mary_df.iterrows():\n#     mary_df.ix[index, 'new_amount'] = float(mary_df.iloc[index]['amount']*-1)\n#     mary_df.ix[index, 'new_amount'] = float(mary_df.iloc[index]['amount'])\n        \nout_mary_df.ix[1,'Weightage'] = out_mary_df.ix[1,'new_amount']/(out_mary_df.ix[1,'new_amount']+out_mary_df.ix[3,'new_amount'])\nout_mary_df.ix[3,'Weightage'] = out_mary_df.ix[3,'new_amount']/(out_mary_df.ix[1,'new_amount']+out_mary_df.ix[3,'new_amount'])\nout_mary_df",
      "execution_count": 533,
      "outputs": [
        {
          "output_type": "stream",
          "text": "/opt/conda/lib/python3.6/site-packages/ipykernel_launcher.py:5: DeprecationWarning: \n.ix is deprecated. Please use\n.loc for label based indexing or\n.iloc for positional indexing\n\nSee the documentation here:\nhttp://pandas.pydata.org/pandas-docs/stable/indexing.html#ix-indexer-is-deprecated\n  \"\"\"\n/opt/conda/lib/python3.6/site-packages/ipykernel_launcher.py:6: DeprecationWarning: \n.ix is deprecated. Please use\n.loc for label based indexing or\n.iloc for positional indexing\n\nSee the documentation here:\nhttp://pandas.pydata.org/pandas-docs/stable/indexing.html#ix-indexer-is-deprecated\n  \n",
          "name": "stderr"
        },
        {
          "output_type": "execute_result",
          "execution_count": 533,
          "data": {
            "text/plain": "           new_amount  Weightage\ntag                             \nATM       -207.692308        NaN\nF&B       -169.207692   0.653211\nTRANSFER  -105.923077        NaN\nTRANSPORT  -89.832308   0.346789",
            "text/html": "<div>\n<style scoped>\n    .dataframe tbody tr th:only-of-type {\n        vertical-align: middle;\n    }\n\n    .dataframe tbody tr th {\n        vertical-align: top;\n    }\n\n    .dataframe thead th {\n        text-align: right;\n    }\n</style>\n<table border=\"1\" class=\"dataframe\">\n  <thead>\n    <tr style=\"text-align: right;\">\n      <th></th>\n      <th>new_amount</th>\n      <th>Weightage</th>\n    </tr>\n    <tr>\n      <th>tag</th>\n      <th></th>\n      <th></th>\n    </tr>\n  </thead>\n  <tbody>\n    <tr>\n      <th>ATM</th>\n      <td>-207.692308</td>\n      <td>NaN</td>\n    </tr>\n    <tr>\n      <th>F&amp;B</th>\n      <td>-169.207692</td>\n      <td>0.653211</td>\n    </tr>\n    <tr>\n      <th>TRANSFER</th>\n      <td>-105.923077</td>\n      <td>NaN</td>\n    </tr>\n    <tr>\n      <th>TRANSPORT</th>\n      <td>-89.832308</td>\n      <td>0.346789</td>\n    </tr>\n  </tbody>\n</table>\n</div>"
          },
          "metadata": {}
        }
      ]
    },
    {
      "metadata": {
        "trusted": true,
        "_uuid": "2aa9d22c9cae419daa412af472f1173f17a87f22"
      },
      "cell_type": "code",
      "source": "out_zeyang_df.ix[1,'Weightage'] = out_zeyang_df.ix[1,'new_amount']/(out_zeyang_df.ix[1,'new_amount']+out_zeyang_df.ix[3,'new_amount'])\nout_zeyang_df.ix[3,'Weightage'] = out_zeyang_df.ix[3,'new_amount']/(out_zeyang_df.ix[1,'new_amount']+out_zeyang_df.ix[3,'new_amount'])\nout_zeyang_df",
      "execution_count": 534,
      "outputs": [
        {
          "output_type": "stream",
          "text": "/opt/conda/lib/python3.6/site-packages/ipykernel_launcher.py:1: DeprecationWarning: \n.ix is deprecated. Please use\n.loc for label based indexing or\n.iloc for positional indexing\n\nSee the documentation here:\nhttp://pandas.pydata.org/pandas-docs/stable/indexing.html#ix-indexer-is-deprecated\n  \"\"\"Entry point for launching an IPython kernel.\n/opt/conda/lib/python3.6/site-packages/ipykernel_launcher.py:2: DeprecationWarning: \n.ix is deprecated. Please use\n.loc for label based indexing or\n.iloc for positional indexing\n\nSee the documentation here:\nhttp://pandas.pydata.org/pandas-docs/stable/indexing.html#ix-indexer-is-deprecated\n  \n",
          "name": "stderr"
        },
        {
          "output_type": "execute_result",
          "execution_count": 534,
          "data": {
            "text/plain": "           new_amount  Weightage\ntag                             \nATM       -923.076923        NaN\nF&B       -611.286923   0.731059\nTRANSFER   -69.070769        NaN\nTRANSPORT -224.879231   0.268941",
            "text/html": "<div>\n<style scoped>\n    .dataframe tbody tr th:only-of-type {\n        vertical-align: middle;\n    }\n\n    .dataframe tbody tr th {\n        vertical-align: top;\n    }\n\n    .dataframe thead th {\n        text-align: right;\n    }\n</style>\n<table border=\"1\" class=\"dataframe\">\n  <thead>\n    <tr style=\"text-align: right;\">\n      <th></th>\n      <th>new_amount</th>\n      <th>Weightage</th>\n    </tr>\n    <tr>\n      <th>tag</th>\n      <th></th>\n      <th></th>\n    </tr>\n  </thead>\n  <tbody>\n    <tr>\n      <th>ATM</th>\n      <td>-923.076923</td>\n      <td>NaN</td>\n    </tr>\n    <tr>\n      <th>F&amp;B</th>\n      <td>-611.286923</td>\n      <td>0.731059</td>\n    </tr>\n    <tr>\n      <th>TRANSFER</th>\n      <td>-69.070769</td>\n      <td>NaN</td>\n    </tr>\n    <tr>\n      <th>TRANSPORT</th>\n      <td>-224.879231</td>\n      <td>0.268941</td>\n    </tr>\n  </tbody>\n</table>\n</div>"
          },
          "metadata": {}
        }
      ]
    },
    {
      "metadata": {
        "trusted": true,
        "_uuid": "5452e46c49f08644f820c64f40dde6ff87d8070c"
      },
      "cell_type": "code",
      "source": "in_mary_df",
      "execution_count": 535,
      "outputs": [
        {
          "output_type": "execute_result",
          "execution_count": 535,
          "data": {
            "text/plain": "          new_amount\ntag                 \nTRANSFER  931.503077",
            "text/html": "<div>\n<style scoped>\n    .dataframe tbody tr th:only-of-type {\n        vertical-align: middle;\n    }\n\n    .dataframe tbody tr th {\n        vertical-align: top;\n    }\n\n    .dataframe thead th {\n        text-align: right;\n    }\n</style>\n<table border=\"1\" class=\"dataframe\">\n  <thead>\n    <tr style=\"text-align: right;\">\n      <th></th>\n      <th>new_amount</th>\n    </tr>\n    <tr>\n      <th>tag</th>\n      <th></th>\n    </tr>\n  </thead>\n  <tbody>\n    <tr>\n      <th>TRANSFER</th>\n      <td>931.503077</td>\n    </tr>\n  </tbody>\n</table>\n</div>"
          },
          "metadata": {}
        }
      ]
    },
    {
      "metadata": {
        "trusted": true,
        "_uuid": "31e68bd2c38884c617a44e8d508acc94ec6e4ddb"
      },
      "cell_type": "code",
      "source": "in_zeyang_df",
      "execution_count": 536,
      "outputs": [
        {
          "output_type": "execute_result",
          "execution_count": 536,
          "data": {
            "text/plain": "           new_amount\ntag                  \nTRANSFER  3372.537692",
            "text/html": "<div>\n<style scoped>\n    .dataframe tbody tr th:only-of-type {\n        vertical-align: middle;\n    }\n\n    .dataframe tbody tr th {\n        vertical-align: top;\n    }\n\n    .dataframe thead th {\n        text-align: right;\n    }\n</style>\n<table border=\"1\" class=\"dataframe\">\n  <thead>\n    <tr style=\"text-align: right;\">\n      <th></th>\n      <th>new_amount</th>\n    </tr>\n    <tr>\n      <th>tag</th>\n      <th></th>\n    </tr>\n  </thead>\n  <tbody>\n    <tr>\n      <th>TRANSFER</th>\n      <td>3372.537692</td>\n    </tr>\n  </tbody>\n</table>\n</div>"
          },
          "metadata": {}
        }
      ]
    },
    {
      "metadata": {
        "trusted": true,
        "_uuid": "08019c122a3a734d5b2687c99a50cd45e75958b3"
      },
      "cell_type": "code",
      "source": "",
      "execution_count": null,
      "outputs": []
    }
  ],
  "metadata": {
    "kernelspec": {
      "display_name": "Python 3",
      "language": "python",
      "name": "python3"
    }
  },
  "nbformat": 4,
  "nbformat_minor": 1
}